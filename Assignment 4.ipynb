{
 "cells": [
  {
   "cell_type": "code",
   "execution_count": 1,
   "id": "66b65f97",
   "metadata": {},
   "outputs": [],
   "source": [
    "# Importing necessary libraries\n",
    "import pandas as pd\n",
    "import numpy as np\n",
    "import matplotlib.pyplot as plt\n",
    "import seaborn as sns"
   ]
  },
  {
   "cell_type": "markdown",
   "id": "70f1bf86",
   "metadata": {},
   "source": [
    "# Q1. Using sklearn.datasets.load_diabetes apply Variance method for removing the constant column also after applying the Variance method apply multi linear regression on that data \n"
   ]
  },
  {
   "cell_type": "code",
   "execution_count": 2,
   "id": "f9ea205a",
   "metadata": {},
   "outputs": [],
   "source": [
    "# Loading diabetes data from sklearn\n",
    "from sklearn import datasets\n",
    "data = datasets.load_diabetes()"
   ]
  },
  {
   "cell_type": "code",
   "execution_count": 3,
   "id": "139ce5da",
   "metadata": {},
   "outputs": [],
   "source": [
    "# Converting loaded data into datframe using pandas\n",
    "df = pd.DataFrame(data=data.data, columns=data.feature_names)\n",
    "df['target'] = pd.Series(data.target)"
   ]
  },
  {
   "cell_type": "code",
   "execution_count": 4,
   "id": "0bdf6055",
   "metadata": {},
   "outputs": [
    {
     "data": {
      "text/html": [
       "<div>\n",
       "<style scoped>\n",
       "    .dataframe tbody tr th:only-of-type {\n",
       "        vertical-align: middle;\n",
       "    }\n",
       "\n",
       "    .dataframe tbody tr th {\n",
       "        vertical-align: top;\n",
       "    }\n",
       "\n",
       "    .dataframe thead th {\n",
       "        text-align: right;\n",
       "    }\n",
       "</style>\n",
       "<table border=\"1\" class=\"dataframe\">\n",
       "  <thead>\n",
       "    <tr style=\"text-align: right;\">\n",
       "      <th></th>\n",
       "      <th>age</th>\n",
       "      <th>sex</th>\n",
       "      <th>bmi</th>\n",
       "      <th>bp</th>\n",
       "      <th>s1</th>\n",
       "      <th>s2</th>\n",
       "      <th>s3</th>\n",
       "      <th>s4</th>\n",
       "      <th>s5</th>\n",
       "      <th>s6</th>\n",
       "      <th>target</th>\n",
       "    </tr>\n",
       "  </thead>\n",
       "  <tbody>\n",
       "    <tr>\n",
       "      <th>0</th>\n",
       "      <td>0.038076</td>\n",
       "      <td>0.050680</td>\n",
       "      <td>0.061696</td>\n",
       "      <td>0.021872</td>\n",
       "      <td>-0.044223</td>\n",
       "      <td>-0.034821</td>\n",
       "      <td>-0.043401</td>\n",
       "      <td>-0.002592</td>\n",
       "      <td>0.019908</td>\n",
       "      <td>-0.017646</td>\n",
       "      <td>151.0</td>\n",
       "    </tr>\n",
       "    <tr>\n",
       "      <th>1</th>\n",
       "      <td>-0.001882</td>\n",
       "      <td>-0.044642</td>\n",
       "      <td>-0.051474</td>\n",
       "      <td>-0.026328</td>\n",
       "      <td>-0.008449</td>\n",
       "      <td>-0.019163</td>\n",
       "      <td>0.074412</td>\n",
       "      <td>-0.039493</td>\n",
       "      <td>-0.068330</td>\n",
       "      <td>-0.092204</td>\n",
       "      <td>75.0</td>\n",
       "    </tr>\n",
       "    <tr>\n",
       "      <th>2</th>\n",
       "      <td>0.085299</td>\n",
       "      <td>0.050680</td>\n",
       "      <td>0.044451</td>\n",
       "      <td>-0.005671</td>\n",
       "      <td>-0.045599</td>\n",
       "      <td>-0.034194</td>\n",
       "      <td>-0.032356</td>\n",
       "      <td>-0.002592</td>\n",
       "      <td>0.002864</td>\n",
       "      <td>-0.025930</td>\n",
       "      <td>141.0</td>\n",
       "    </tr>\n",
       "    <tr>\n",
       "      <th>3</th>\n",
       "      <td>-0.089063</td>\n",
       "      <td>-0.044642</td>\n",
       "      <td>-0.011595</td>\n",
       "      <td>-0.036656</td>\n",
       "      <td>0.012191</td>\n",
       "      <td>0.024991</td>\n",
       "      <td>-0.036038</td>\n",
       "      <td>0.034309</td>\n",
       "      <td>0.022692</td>\n",
       "      <td>-0.009362</td>\n",
       "      <td>206.0</td>\n",
       "    </tr>\n",
       "    <tr>\n",
       "      <th>4</th>\n",
       "      <td>0.005383</td>\n",
       "      <td>-0.044642</td>\n",
       "      <td>-0.036385</td>\n",
       "      <td>0.021872</td>\n",
       "      <td>0.003935</td>\n",
       "      <td>0.015596</td>\n",
       "      <td>0.008142</td>\n",
       "      <td>-0.002592</td>\n",
       "      <td>-0.031991</td>\n",
       "      <td>-0.046641</td>\n",
       "      <td>135.0</td>\n",
       "    </tr>\n",
       "  </tbody>\n",
       "</table>\n",
       "</div>"
      ],
      "text/plain": [
       "        age       sex       bmi        bp        s1        s2        s3  \\\n",
       "0  0.038076  0.050680  0.061696  0.021872 -0.044223 -0.034821 -0.043401   \n",
       "1 -0.001882 -0.044642 -0.051474 -0.026328 -0.008449 -0.019163  0.074412   \n",
       "2  0.085299  0.050680  0.044451 -0.005671 -0.045599 -0.034194 -0.032356   \n",
       "3 -0.089063 -0.044642 -0.011595 -0.036656  0.012191  0.024991 -0.036038   \n",
       "4  0.005383 -0.044642 -0.036385  0.021872  0.003935  0.015596  0.008142   \n",
       "\n",
       "         s4        s5        s6  target  \n",
       "0 -0.002592  0.019908 -0.017646   151.0  \n",
       "1 -0.039493 -0.068330 -0.092204    75.0  \n",
       "2 -0.002592  0.002864 -0.025930   141.0  \n",
       "3  0.034309  0.022692 -0.009362   206.0  \n",
       "4 -0.002592 -0.031991 -0.046641   135.0  "
      ]
     },
     "execution_count": 4,
     "metadata": {},
     "output_type": "execute_result"
    }
   ],
   "source": [
    "# Quick look\n",
    "df.head()"
   ]
  },
  {
   "cell_type": "code",
   "execution_count": 5,
   "id": "8d791299",
   "metadata": {},
   "outputs": [
    {
     "name": "stdout",
     "output_type": "stream",
     "text": [
      "<class 'pandas.core.frame.DataFrame'>\n",
      "RangeIndex: 442 entries, 0 to 441\n",
      "Data columns (total 11 columns):\n",
      " #   Column  Non-Null Count  Dtype  \n",
      "---  ------  --------------  -----  \n",
      " 0   age     442 non-null    float64\n",
      " 1   sex     442 non-null    float64\n",
      " 2   bmi     442 non-null    float64\n",
      " 3   bp      442 non-null    float64\n",
      " 4   s1      442 non-null    float64\n",
      " 5   s2      442 non-null    float64\n",
      " 6   s3      442 non-null    float64\n",
      " 7   s4      442 non-null    float64\n",
      " 8   s5      442 non-null    float64\n",
      " 9   s6      442 non-null    float64\n",
      " 10  target  442 non-null    float64\n",
      "dtypes: float64(11)\n",
      "memory usage: 38.1 KB\n"
     ]
    }
   ],
   "source": [
    "# info about data\n",
    "df.info()"
   ]
  },
  {
   "cell_type": "code",
   "execution_count": 6,
   "id": "f5613d88",
   "metadata": {},
   "outputs": [
    {
     "data": {
      "text/html": [
       "<div>\n",
       "<style scoped>\n",
       "    .dataframe tbody tr th:only-of-type {\n",
       "        vertical-align: middle;\n",
       "    }\n",
       "\n",
       "    .dataframe tbody tr th {\n",
       "        vertical-align: top;\n",
       "    }\n",
       "\n",
       "    .dataframe thead th {\n",
       "        text-align: right;\n",
       "    }\n",
       "</style>\n",
       "<table border=\"1\" class=\"dataframe\">\n",
       "  <thead>\n",
       "    <tr style=\"text-align: right;\">\n",
       "      <th></th>\n",
       "      <th>age</th>\n",
       "      <th>sex</th>\n",
       "      <th>bmi</th>\n",
       "      <th>bp</th>\n",
       "      <th>s1</th>\n",
       "      <th>s2</th>\n",
       "      <th>s3</th>\n",
       "      <th>s4</th>\n",
       "      <th>s5</th>\n",
       "      <th>s6</th>\n",
       "      <th>target</th>\n",
       "    </tr>\n",
       "  </thead>\n",
       "  <tbody>\n",
       "    <tr>\n",
       "      <th>count</th>\n",
       "      <td>4.420000e+02</td>\n",
       "      <td>4.420000e+02</td>\n",
       "      <td>4.420000e+02</td>\n",
       "      <td>4.420000e+02</td>\n",
       "      <td>4.420000e+02</td>\n",
       "      <td>4.420000e+02</td>\n",
       "      <td>4.420000e+02</td>\n",
       "      <td>4.420000e+02</td>\n",
       "      <td>4.420000e+02</td>\n",
       "      <td>4.420000e+02</td>\n",
       "      <td>442.000000</td>\n",
       "    </tr>\n",
       "    <tr>\n",
       "      <th>mean</th>\n",
       "      <td>-3.634285e-16</td>\n",
       "      <td>1.308343e-16</td>\n",
       "      <td>-8.045349e-16</td>\n",
       "      <td>1.281655e-16</td>\n",
       "      <td>-8.835316e-17</td>\n",
       "      <td>1.327024e-16</td>\n",
       "      <td>-4.574646e-16</td>\n",
       "      <td>3.777301e-16</td>\n",
       "      <td>-3.830854e-16</td>\n",
       "      <td>-3.412882e-16</td>\n",
       "      <td>152.133484</td>\n",
       "    </tr>\n",
       "    <tr>\n",
       "      <th>std</th>\n",
       "      <td>4.761905e-02</td>\n",
       "      <td>4.761905e-02</td>\n",
       "      <td>4.761905e-02</td>\n",
       "      <td>4.761905e-02</td>\n",
       "      <td>4.761905e-02</td>\n",
       "      <td>4.761905e-02</td>\n",
       "      <td>4.761905e-02</td>\n",
       "      <td>4.761905e-02</td>\n",
       "      <td>4.761905e-02</td>\n",
       "      <td>4.761905e-02</td>\n",
       "      <td>77.093005</td>\n",
       "    </tr>\n",
       "    <tr>\n",
       "      <th>min</th>\n",
       "      <td>-1.072256e-01</td>\n",
       "      <td>-4.464164e-02</td>\n",
       "      <td>-9.027530e-02</td>\n",
       "      <td>-1.123996e-01</td>\n",
       "      <td>-1.267807e-01</td>\n",
       "      <td>-1.156131e-01</td>\n",
       "      <td>-1.023071e-01</td>\n",
       "      <td>-7.639450e-02</td>\n",
       "      <td>-1.260974e-01</td>\n",
       "      <td>-1.377672e-01</td>\n",
       "      <td>25.000000</td>\n",
       "    </tr>\n",
       "    <tr>\n",
       "      <th>25%</th>\n",
       "      <td>-3.729927e-02</td>\n",
       "      <td>-4.464164e-02</td>\n",
       "      <td>-3.422907e-02</td>\n",
       "      <td>-3.665645e-02</td>\n",
       "      <td>-3.424784e-02</td>\n",
       "      <td>-3.035840e-02</td>\n",
       "      <td>-3.511716e-02</td>\n",
       "      <td>-3.949338e-02</td>\n",
       "      <td>-3.324879e-02</td>\n",
       "      <td>-3.317903e-02</td>\n",
       "      <td>87.000000</td>\n",
       "    </tr>\n",
       "    <tr>\n",
       "      <th>50%</th>\n",
       "      <td>5.383060e-03</td>\n",
       "      <td>-4.464164e-02</td>\n",
       "      <td>-7.283766e-03</td>\n",
       "      <td>-5.670611e-03</td>\n",
       "      <td>-4.320866e-03</td>\n",
       "      <td>-3.819065e-03</td>\n",
       "      <td>-6.584468e-03</td>\n",
       "      <td>-2.592262e-03</td>\n",
       "      <td>-1.947634e-03</td>\n",
       "      <td>-1.077698e-03</td>\n",
       "      <td>140.500000</td>\n",
       "    </tr>\n",
       "    <tr>\n",
       "      <th>75%</th>\n",
       "      <td>3.807591e-02</td>\n",
       "      <td>5.068012e-02</td>\n",
       "      <td>3.124802e-02</td>\n",
       "      <td>3.564384e-02</td>\n",
       "      <td>2.835801e-02</td>\n",
       "      <td>2.984439e-02</td>\n",
       "      <td>2.931150e-02</td>\n",
       "      <td>3.430886e-02</td>\n",
       "      <td>3.243323e-02</td>\n",
       "      <td>2.791705e-02</td>\n",
       "      <td>211.500000</td>\n",
       "    </tr>\n",
       "    <tr>\n",
       "      <th>max</th>\n",
       "      <td>1.107267e-01</td>\n",
       "      <td>5.068012e-02</td>\n",
       "      <td>1.705552e-01</td>\n",
       "      <td>1.320442e-01</td>\n",
       "      <td>1.539137e-01</td>\n",
       "      <td>1.987880e-01</td>\n",
       "      <td>1.811791e-01</td>\n",
       "      <td>1.852344e-01</td>\n",
       "      <td>1.335990e-01</td>\n",
       "      <td>1.356118e-01</td>\n",
       "      <td>346.000000</td>\n",
       "    </tr>\n",
       "  </tbody>\n",
       "</table>\n",
       "</div>"
      ],
      "text/plain": [
       "                age           sex           bmi            bp            s1  \\\n",
       "count  4.420000e+02  4.420000e+02  4.420000e+02  4.420000e+02  4.420000e+02   \n",
       "mean  -3.634285e-16  1.308343e-16 -8.045349e-16  1.281655e-16 -8.835316e-17   \n",
       "std    4.761905e-02  4.761905e-02  4.761905e-02  4.761905e-02  4.761905e-02   \n",
       "min   -1.072256e-01 -4.464164e-02 -9.027530e-02 -1.123996e-01 -1.267807e-01   \n",
       "25%   -3.729927e-02 -4.464164e-02 -3.422907e-02 -3.665645e-02 -3.424784e-02   \n",
       "50%    5.383060e-03 -4.464164e-02 -7.283766e-03 -5.670611e-03 -4.320866e-03   \n",
       "75%    3.807591e-02  5.068012e-02  3.124802e-02  3.564384e-02  2.835801e-02   \n",
       "max    1.107267e-01  5.068012e-02  1.705552e-01  1.320442e-01  1.539137e-01   \n",
       "\n",
       "                 s2            s3            s4            s5            s6  \\\n",
       "count  4.420000e+02  4.420000e+02  4.420000e+02  4.420000e+02  4.420000e+02   \n",
       "mean   1.327024e-16 -4.574646e-16  3.777301e-16 -3.830854e-16 -3.412882e-16   \n",
       "std    4.761905e-02  4.761905e-02  4.761905e-02  4.761905e-02  4.761905e-02   \n",
       "min   -1.156131e-01 -1.023071e-01 -7.639450e-02 -1.260974e-01 -1.377672e-01   \n",
       "25%   -3.035840e-02 -3.511716e-02 -3.949338e-02 -3.324879e-02 -3.317903e-02   \n",
       "50%   -3.819065e-03 -6.584468e-03 -2.592262e-03 -1.947634e-03 -1.077698e-03   \n",
       "75%    2.984439e-02  2.931150e-02  3.430886e-02  3.243323e-02  2.791705e-02   \n",
       "max    1.987880e-01  1.811791e-01  1.852344e-01  1.335990e-01  1.356118e-01   \n",
       "\n",
       "           target  \n",
       "count  442.000000  \n",
       "mean   152.133484  \n",
       "std     77.093005  \n",
       "min     25.000000  \n",
       "25%     87.000000  \n",
       "50%    140.500000  \n",
       "75%    211.500000  \n",
       "max    346.000000  "
      ]
     },
     "execution_count": 6,
     "metadata": {},
     "output_type": "execute_result"
    }
   ],
   "source": [
    "df.describe()"
   ]
  },
  {
   "cell_type": "code",
   "execution_count": 7,
   "id": "991f8e09",
   "metadata": {},
   "outputs": [
    {
     "data": {
      "text/html": [
       "<div>\n",
       "<style scoped>\n",
       "    .dataframe tbody tr th:only-of-type {\n",
       "        vertical-align: middle;\n",
       "    }\n",
       "\n",
       "    .dataframe tbody tr th {\n",
       "        vertical-align: top;\n",
       "    }\n",
       "\n",
       "    .dataframe thead th {\n",
       "        text-align: right;\n",
       "    }\n",
       "</style>\n",
       "<table border=\"1\" class=\"dataframe\">\n",
       "  <thead>\n",
       "    <tr style=\"text-align: right;\">\n",
       "      <th></th>\n",
       "      <th>age</th>\n",
       "      <th>sex</th>\n",
       "      <th>bmi</th>\n",
       "      <th>bp</th>\n",
       "      <th>s1</th>\n",
       "      <th>s2</th>\n",
       "      <th>s3</th>\n",
       "      <th>s4</th>\n",
       "      <th>s5</th>\n",
       "      <th>s6</th>\n",
       "    </tr>\n",
       "  </thead>\n",
       "  <tbody>\n",
       "    <tr>\n",
       "      <th>0</th>\n",
       "      <td>0.038076</td>\n",
       "      <td>0.050680</td>\n",
       "      <td>0.061696</td>\n",
       "      <td>0.021872</td>\n",
       "      <td>-0.044223</td>\n",
       "      <td>-0.034821</td>\n",
       "      <td>-0.043401</td>\n",
       "      <td>-0.002592</td>\n",
       "      <td>0.019908</td>\n",
       "      <td>-0.017646</td>\n",
       "    </tr>\n",
       "    <tr>\n",
       "      <th>1</th>\n",
       "      <td>-0.001882</td>\n",
       "      <td>-0.044642</td>\n",
       "      <td>-0.051474</td>\n",
       "      <td>-0.026328</td>\n",
       "      <td>-0.008449</td>\n",
       "      <td>-0.019163</td>\n",
       "      <td>0.074412</td>\n",
       "      <td>-0.039493</td>\n",
       "      <td>-0.068330</td>\n",
       "      <td>-0.092204</td>\n",
       "    </tr>\n",
       "    <tr>\n",
       "      <th>2</th>\n",
       "      <td>0.085299</td>\n",
       "      <td>0.050680</td>\n",
       "      <td>0.044451</td>\n",
       "      <td>-0.005671</td>\n",
       "      <td>-0.045599</td>\n",
       "      <td>-0.034194</td>\n",
       "      <td>-0.032356</td>\n",
       "      <td>-0.002592</td>\n",
       "      <td>0.002864</td>\n",
       "      <td>-0.025930</td>\n",
       "    </tr>\n",
       "    <tr>\n",
       "      <th>3</th>\n",
       "      <td>-0.089063</td>\n",
       "      <td>-0.044642</td>\n",
       "      <td>-0.011595</td>\n",
       "      <td>-0.036656</td>\n",
       "      <td>0.012191</td>\n",
       "      <td>0.024991</td>\n",
       "      <td>-0.036038</td>\n",
       "      <td>0.034309</td>\n",
       "      <td>0.022692</td>\n",
       "      <td>-0.009362</td>\n",
       "    </tr>\n",
       "    <tr>\n",
       "      <th>4</th>\n",
       "      <td>0.005383</td>\n",
       "      <td>-0.044642</td>\n",
       "      <td>-0.036385</td>\n",
       "      <td>0.021872</td>\n",
       "      <td>0.003935</td>\n",
       "      <td>0.015596</td>\n",
       "      <td>0.008142</td>\n",
       "      <td>-0.002592</td>\n",
       "      <td>-0.031991</td>\n",
       "      <td>-0.046641</td>\n",
       "    </tr>\n",
       "  </tbody>\n",
       "</table>\n",
       "</div>"
      ],
      "text/plain": [
       "        age       sex       bmi        bp        s1        s2        s3  \\\n",
       "0  0.038076  0.050680  0.061696  0.021872 -0.044223 -0.034821 -0.043401   \n",
       "1 -0.001882 -0.044642 -0.051474 -0.026328 -0.008449 -0.019163  0.074412   \n",
       "2  0.085299  0.050680  0.044451 -0.005671 -0.045599 -0.034194 -0.032356   \n",
       "3 -0.089063 -0.044642 -0.011595 -0.036656  0.012191  0.024991 -0.036038   \n",
       "4  0.005383 -0.044642 -0.036385  0.021872  0.003935  0.015596  0.008142   \n",
       "\n",
       "         s4        s5        s6  \n",
       "0 -0.002592  0.019908 -0.017646  \n",
       "1 -0.039493 -0.068330 -0.092204  \n",
       "2 -0.002592  0.002864 -0.025930  \n",
       "3  0.034309  0.022692 -0.009362  \n",
       "4 -0.002592 -0.031991 -0.046641  "
      ]
     },
     "execution_count": 7,
     "metadata": {},
     "output_type": "execute_result"
    }
   ],
   "source": [
    "# Getting all independent features into a variable\n",
    "X = df.drop(\"target\", axis=1)\n",
    "X.head()"
   ]
  },
  {
   "cell_type": "code",
   "execution_count": 8,
   "id": "2dc10b98",
   "metadata": {},
   "outputs": [],
   "source": [
    "# Applying varianceThreshold to get constant columns\n",
    "from sklearn.feature_selection import VarianceThreshold\n",
    "var= VarianceThreshold()\n",
    "op = var.fit(X)"
   ]
  },
  {
   "cell_type": "code",
   "execution_count": 9,
   "id": "d41ed56b",
   "metadata": {},
   "outputs": [
    {
     "data": {
      "text/plain": [
       "array([ True,  True,  True,  True,  True,  True,  True,  True,  True,\n",
       "        True])"
      ]
     },
     "execution_count": 9,
     "metadata": {},
     "output_type": "execute_result"
    }
   ],
   "source": [
    "op.get_support()"
   ]
  },
  {
   "cell_type": "code",
   "execution_count": 10,
   "id": "344686f0",
   "metadata": {},
   "outputs": [
    {
     "data": {
      "text/plain": [
       "Index([], dtype='object')"
      ]
     },
     "execution_count": 10,
     "metadata": {},
     "output_type": "execute_result"
    }
   ],
   "source": [
    "X.columns[op.get_support() == False]"
   ]
  },
  {
   "cell_type": "code",
   "execution_count": 11,
   "id": "cc62d63e",
   "metadata": {},
   "outputs": [
    {
     "data": {
      "text/plain": [
       "age    0.002268\n",
       "sex    0.002268\n",
       "bmi    0.002268\n",
       "bp     0.002268\n",
       "s1     0.002268\n",
       "s2     0.002268\n",
       "s3     0.002268\n",
       "s4     0.002268\n",
       "s5     0.002268\n",
       "s6     0.002268\n",
       "dtype: float64"
      ]
     },
     "execution_count": 11,
     "metadata": {},
     "output_type": "execute_result"
    }
   ],
   "source": [
    "# Checking actual variance of independent variable\n",
    "X.var()"
   ]
  },
  {
   "cell_type": "markdown",
   "id": "f6d75d22",
   "metadata": {},
   "source": [
    "## As the variance of each independent feature is same . we can not remove any feature by using variance threshold."
   ]
  },
  {
   "cell_type": "markdown",
   "id": "5179aa71",
   "metadata": {},
   "source": [
    "## Applying multilinear regression on the data"
   ]
  },
  {
   "cell_type": "code",
   "execution_count": 12,
   "id": "a937cd7e",
   "metadata": {},
   "outputs": [],
   "source": [
    "# independent and dependent feature\n",
    "iv = X.values\n",
    "dv = df[['target']].values"
   ]
  },
  {
   "cell_type": "code",
   "execution_count": 13,
   "id": "22d8966f",
   "metadata": {},
   "outputs": [],
   "source": [
    "# importing train_test_split \n",
    "from sklearn.model_selection import train_test_split\n",
    "X_train, X_test, y_train, y_test = train_test_split(iv, dv, test_size=0.2, random_state=250)"
   ]
  },
  {
   "cell_type": "code",
   "execution_count": 14,
   "id": "aa8cada3",
   "metadata": {},
   "outputs": [
    {
     "name": "stdout",
     "output_type": "stream",
     "text": [
      "Training Stats:=> (353, 10) | (353, 1)\n",
      "Testing Stats:=> (89, 10) | (89, 1)\n"
     ]
    }
   ],
   "source": [
    "# Printing Train & Test stats\n",
    "print(f\"Training Stats:=> {X_train.shape} | {y_train.shape}\")\n",
    "print(f\"Testing Stats:=> {X_test.shape} | {y_test.shape}\")"
   ]
  },
  {
   "cell_type": "code",
   "execution_count": 15,
   "id": "4cdb85a3",
   "metadata": {},
   "outputs": [],
   "source": [
    "# Importing linear model from sklearn\n",
    "from sklearn import linear_model\n",
    "multi_reg = linear_model.LinearRegression()"
   ]
  },
  {
   "cell_type": "code",
   "execution_count": 16,
   "id": "c8c04a6f",
   "metadata": {},
   "outputs": [
    {
     "data": {
      "text/plain": [
       "LinearRegression()"
      ]
     },
     "execution_count": 16,
     "metadata": {},
     "output_type": "execute_result"
    }
   ],
   "source": [
    "# fitting model\n",
    "multi_reg.fit(X_train, y_train)"
   ]
  },
  {
   "cell_type": "code",
   "execution_count": 17,
   "id": "2f11cc3e",
   "metadata": {},
   "outputs": [
    {
     "name": "stdout",
     "output_type": "stream",
     "text": [
      "Coeficient : [  -40.62269638  -281.30796903   448.89295696   321.29717853\n",
      " -1367.78877933   900.05364803   337.28241153   362.40856783\n",
      "   913.78606491    25.88823632] \n",
      "\n",
      "Intercept : 151.6573667205313\n"
     ]
    }
   ],
   "source": [
    "# Coeficient & intercept\n",
    "print(f\"Coeficient : {multi_reg.coef_[0]} \\n\")\n",
    "print(f\"Intercept : {multi_reg.intercept_[0]}\")"
   ]
  },
  {
   "cell_type": "code",
   "execution_count": 18,
   "id": "dcef1dac",
   "metadata": {},
   "outputs": [],
   "source": [
    "# Prediction\n",
    "y_hat = multi_reg.predict(X_test)"
   ]
  },
  {
   "cell_type": "code",
   "execution_count": 19,
   "id": "e37b6727",
   "metadata": {},
   "outputs": [],
   "source": [
    "from sklearn.metrics import mean_absolute_error\n",
    "from sklearn.metrics import mean_squared_error\n",
    "from sklearn.metrics import r2_score\n"
   ]
  },
  {
   "cell_type": "code",
   "execution_count": 20,
   "id": "40c8e4ba",
   "metadata": {},
   "outputs": [
    {
     "name": "stdout",
     "output_type": "stream",
     "text": [
      "Mean Absolute Error  : 50.28086556018373\n",
      "Mean squared Error : 3585.8292772372283\n",
      "R2 score : 49.26%\n"
     ]
    }
   ],
   "source": [
    "# Calculating error and accuracy\n",
    "print(\"Mean Absolute Error  :\", mean_absolute_error(y_test, y_hat) )\n",
    "print(\"Mean squared Error :\", mean_squared_error(y_test, y_hat) )\n",
    "print(f\"R2 score : {r2_score(y_test, y_hat)*100:.2f}%\")\n"
   ]
  },
  {
   "cell_type": "markdown",
   "id": "d4f2fb07",
   "metadata": {},
   "source": [
    "# Q2. Using sklearn.datasets.load_wine Apply Correlation and make a heat map using seaborn and remove the highly correlated columns if exist and the apply SVM and get the best accuracy by changing the Hyperparameters \n"
   ]
  },
  {
   "cell_type": "code",
   "execution_count": 21,
   "id": "27f5b86c",
   "metadata": {},
   "outputs": [],
   "source": [
    "# Loading wine data from sklearn datasets\n",
    "from sklearn import datasets\n",
    "wine = datasets.load_wine()"
   ]
  },
  {
   "cell_type": "code",
   "execution_count": 22,
   "id": "86cb9223",
   "metadata": {},
   "outputs": [
    {
     "data": {
      "text/plain": [
       "['alcohol',\n",
       " 'malic_acid',\n",
       " 'ash',\n",
       " 'alcalinity_of_ash',\n",
       " 'magnesium',\n",
       " 'total_phenols',\n",
       " 'flavanoids',\n",
       " 'nonflavanoid_phenols',\n",
       " 'proanthocyanins',\n",
       " 'color_intensity',\n",
       " 'hue',\n",
       " 'od280/od315_of_diluted_wines',\n",
       " 'proline']"
      ]
     },
     "execution_count": 22,
     "metadata": {},
     "output_type": "execute_result"
    }
   ],
   "source": [
    "# Getting column names\n",
    "wine.feature_names"
   ]
  },
  {
   "cell_type": "code",
   "execution_count": 23,
   "id": "2ca2e416",
   "metadata": {},
   "outputs": [
    {
     "data": {
      "text/plain": [
       "array([0, 0, 0, 0, 0, 0, 0, 0, 0, 0, 0, 0, 0, 0, 0, 0, 0, 0, 0, 0, 0, 0,\n",
       "       0, 0, 0, 0, 0, 0, 0, 0, 0, 0, 0, 0, 0, 0, 0, 0, 0, 0, 0, 0, 0, 0,\n",
       "       0, 0, 0, 0, 0, 0, 0, 0, 0, 0, 0, 0, 0, 0, 0, 1, 1, 1, 1, 1, 1, 1,\n",
       "       1, 1, 1, 1, 1, 1, 1, 1, 1, 1, 1, 1, 1, 1, 1, 1, 1, 1, 1, 1, 1, 1,\n",
       "       1, 1, 1, 1, 1, 1, 1, 1, 1, 1, 1, 1, 1, 1, 1, 1, 1, 1, 1, 1, 1, 1,\n",
       "       1, 1, 1, 1, 1, 1, 1, 1, 1, 1, 1, 1, 1, 1, 1, 1, 1, 1, 1, 1, 2, 2,\n",
       "       2, 2, 2, 2, 2, 2, 2, 2, 2, 2, 2, 2, 2, 2, 2, 2, 2, 2, 2, 2, 2, 2,\n",
       "       2, 2, 2, 2, 2, 2, 2, 2, 2, 2, 2, 2, 2, 2, 2, 2, 2, 2, 2, 2, 2, 2,\n",
       "       2, 2])"
      ]
     },
     "execution_count": 23,
     "metadata": {},
     "output_type": "execute_result"
    }
   ],
   "source": [
    "# target feature\n",
    "wine.target"
   ]
  },
  {
   "cell_type": "code",
   "execution_count": 24,
   "id": "c10bf082",
   "metadata": {},
   "outputs": [],
   "source": [
    "# Making dataframe of wine data using pandas\n",
    "wine_df = pd.DataFrame(data=wine.data, columns=wine.feature_names)\n",
    "wine_df['Target']=pd.Series(wine.target)"
   ]
  },
  {
   "cell_type": "code",
   "execution_count": 25,
   "id": "88695d53",
   "metadata": {},
   "outputs": [
    {
     "data": {
      "text/html": [
       "<div>\n",
       "<style scoped>\n",
       "    .dataframe tbody tr th:only-of-type {\n",
       "        vertical-align: middle;\n",
       "    }\n",
       "\n",
       "    .dataframe tbody tr th {\n",
       "        vertical-align: top;\n",
       "    }\n",
       "\n",
       "    .dataframe thead th {\n",
       "        text-align: right;\n",
       "    }\n",
       "</style>\n",
       "<table border=\"1\" class=\"dataframe\">\n",
       "  <thead>\n",
       "    <tr style=\"text-align: right;\">\n",
       "      <th></th>\n",
       "      <th>alcohol</th>\n",
       "      <th>malic_acid</th>\n",
       "      <th>ash</th>\n",
       "      <th>alcalinity_of_ash</th>\n",
       "      <th>magnesium</th>\n",
       "      <th>total_phenols</th>\n",
       "      <th>flavanoids</th>\n",
       "      <th>nonflavanoid_phenols</th>\n",
       "      <th>proanthocyanins</th>\n",
       "      <th>color_intensity</th>\n",
       "      <th>hue</th>\n",
       "      <th>od280/od315_of_diluted_wines</th>\n",
       "      <th>proline</th>\n",
       "      <th>Target</th>\n",
       "    </tr>\n",
       "  </thead>\n",
       "  <tbody>\n",
       "    <tr>\n",
       "      <th>0</th>\n",
       "      <td>14.23</td>\n",
       "      <td>1.71</td>\n",
       "      <td>2.43</td>\n",
       "      <td>15.6</td>\n",
       "      <td>127.0</td>\n",
       "      <td>2.80</td>\n",
       "      <td>3.06</td>\n",
       "      <td>0.28</td>\n",
       "      <td>2.29</td>\n",
       "      <td>5.64</td>\n",
       "      <td>1.04</td>\n",
       "      <td>3.92</td>\n",
       "      <td>1065.0</td>\n",
       "      <td>0</td>\n",
       "    </tr>\n",
       "    <tr>\n",
       "      <th>1</th>\n",
       "      <td>13.20</td>\n",
       "      <td>1.78</td>\n",
       "      <td>2.14</td>\n",
       "      <td>11.2</td>\n",
       "      <td>100.0</td>\n",
       "      <td>2.65</td>\n",
       "      <td>2.76</td>\n",
       "      <td>0.26</td>\n",
       "      <td>1.28</td>\n",
       "      <td>4.38</td>\n",
       "      <td>1.05</td>\n",
       "      <td>3.40</td>\n",
       "      <td>1050.0</td>\n",
       "      <td>0</td>\n",
       "    </tr>\n",
       "    <tr>\n",
       "      <th>2</th>\n",
       "      <td>13.16</td>\n",
       "      <td>2.36</td>\n",
       "      <td>2.67</td>\n",
       "      <td>18.6</td>\n",
       "      <td>101.0</td>\n",
       "      <td>2.80</td>\n",
       "      <td>3.24</td>\n",
       "      <td>0.30</td>\n",
       "      <td>2.81</td>\n",
       "      <td>5.68</td>\n",
       "      <td>1.03</td>\n",
       "      <td>3.17</td>\n",
       "      <td>1185.0</td>\n",
       "      <td>0</td>\n",
       "    </tr>\n",
       "    <tr>\n",
       "      <th>3</th>\n",
       "      <td>14.37</td>\n",
       "      <td>1.95</td>\n",
       "      <td>2.50</td>\n",
       "      <td>16.8</td>\n",
       "      <td>113.0</td>\n",
       "      <td>3.85</td>\n",
       "      <td>3.49</td>\n",
       "      <td>0.24</td>\n",
       "      <td>2.18</td>\n",
       "      <td>7.80</td>\n",
       "      <td>0.86</td>\n",
       "      <td>3.45</td>\n",
       "      <td>1480.0</td>\n",
       "      <td>0</td>\n",
       "    </tr>\n",
       "    <tr>\n",
       "      <th>4</th>\n",
       "      <td>13.24</td>\n",
       "      <td>2.59</td>\n",
       "      <td>2.87</td>\n",
       "      <td>21.0</td>\n",
       "      <td>118.0</td>\n",
       "      <td>2.80</td>\n",
       "      <td>2.69</td>\n",
       "      <td>0.39</td>\n",
       "      <td>1.82</td>\n",
       "      <td>4.32</td>\n",
       "      <td>1.04</td>\n",
       "      <td>2.93</td>\n",
       "      <td>735.0</td>\n",
       "      <td>0</td>\n",
       "    </tr>\n",
       "  </tbody>\n",
       "</table>\n",
       "</div>"
      ],
      "text/plain": [
       "   alcohol  malic_acid   ash  alcalinity_of_ash  magnesium  total_phenols  \\\n",
       "0    14.23        1.71  2.43               15.6      127.0           2.80   \n",
       "1    13.20        1.78  2.14               11.2      100.0           2.65   \n",
       "2    13.16        2.36  2.67               18.6      101.0           2.80   \n",
       "3    14.37        1.95  2.50               16.8      113.0           3.85   \n",
       "4    13.24        2.59  2.87               21.0      118.0           2.80   \n",
       "\n",
       "   flavanoids  nonflavanoid_phenols  proanthocyanins  color_intensity   hue  \\\n",
       "0        3.06                  0.28             2.29             5.64  1.04   \n",
       "1        2.76                  0.26             1.28             4.38  1.05   \n",
       "2        3.24                  0.30             2.81             5.68  1.03   \n",
       "3        3.49                  0.24             2.18             7.80  0.86   \n",
       "4        2.69                  0.39             1.82             4.32  1.04   \n",
       "\n",
       "   od280/od315_of_diluted_wines  proline  Target  \n",
       "0                          3.92   1065.0       0  \n",
       "1                          3.40   1050.0       0  \n",
       "2                          3.17   1185.0       0  \n",
       "3                          3.45   1480.0       0  \n",
       "4                          2.93    735.0       0  "
      ]
     },
     "execution_count": 25,
     "metadata": {},
     "output_type": "execute_result"
    }
   ],
   "source": [
    "wine_df.head()"
   ]
  },
  {
   "cell_type": "code",
   "execution_count": 26,
   "id": "214696dc",
   "metadata": {},
   "outputs": [
    {
     "name": "stdout",
     "output_type": "stream",
     "text": [
      "<class 'pandas.core.frame.DataFrame'>\n",
      "RangeIndex: 178 entries, 0 to 177\n",
      "Data columns (total 14 columns):\n",
      " #   Column                        Non-Null Count  Dtype  \n",
      "---  ------                        --------------  -----  \n",
      " 0   alcohol                       178 non-null    float64\n",
      " 1   malic_acid                    178 non-null    float64\n",
      " 2   ash                           178 non-null    float64\n",
      " 3   alcalinity_of_ash             178 non-null    float64\n",
      " 4   magnesium                     178 non-null    float64\n",
      " 5   total_phenols                 178 non-null    float64\n",
      " 6   flavanoids                    178 non-null    float64\n",
      " 7   nonflavanoid_phenols          178 non-null    float64\n",
      " 8   proanthocyanins               178 non-null    float64\n",
      " 9   color_intensity               178 non-null    float64\n",
      " 10  hue                           178 non-null    float64\n",
      " 11  od280/od315_of_diluted_wines  178 non-null    float64\n",
      " 12  proline                       178 non-null    float64\n",
      " 13  Target                        178 non-null    int32  \n",
      "dtypes: float64(13), int32(1)\n",
      "memory usage: 18.9 KB\n"
     ]
    }
   ],
   "source": [
    "wine_df.info()"
   ]
  },
  {
   "cell_type": "code",
   "execution_count": 27,
   "id": "8e9e5939",
   "metadata": {},
   "outputs": [],
   "source": [
    "# Getting independent and dependent variable\n",
    "iv = wine_df.drop(\"Target\", axis=1)\n",
    "dv=wine_df[\"Target\"]"
   ]
  },
  {
   "cell_type": "code",
   "execution_count": 28,
   "id": "f00ff058",
   "metadata": {},
   "outputs": [],
   "source": [
    "# splitting data into train & test data\n",
    "X_train, X_test, y_train, y_test = train_test_split(iv, dv, test_size=0.2, random_state=30)"
   ]
  },
  {
   "cell_type": "code",
   "execution_count": 29,
   "id": "970d5238",
   "metadata": {},
   "outputs": [
    {
     "name": "stdout",
     "output_type": "stream",
     "text": [
      "X_train shape is : (142, 13) \n",
      " y_tarin shape is: (142,)\n",
      "X_test shape is : (36, 13) \n",
      " y_test shape is: (36,)\n"
     ]
    }
   ],
   "source": [
    "print(f\"X_train shape is : {X_train.shape} \\n y_tarin shape is: {y_train.shape}\")\n",
    "print(f\"X_test shape is : {X_test.shape} \\n y_test shape is: {y_test.shape}\")"
   ]
  },
  {
   "cell_type": "markdown",
   "id": "262126e6",
   "metadata": {},
   "source": [
    "## Applying Correlation"
   ]
  },
  {
   "cell_type": "code",
   "execution_count": 30,
   "id": "429df91a",
   "metadata": {},
   "outputs": [
    {
     "data": {
      "text/html": [
       "<div>\n",
       "<style scoped>\n",
       "    .dataframe tbody tr th:only-of-type {\n",
       "        vertical-align: middle;\n",
       "    }\n",
       "\n",
       "    .dataframe tbody tr th {\n",
       "        vertical-align: top;\n",
       "    }\n",
       "\n",
       "    .dataframe thead th {\n",
       "        text-align: right;\n",
       "    }\n",
       "</style>\n",
       "<table border=\"1\" class=\"dataframe\">\n",
       "  <thead>\n",
       "    <tr style=\"text-align: right;\">\n",
       "      <th></th>\n",
       "      <th>alcohol</th>\n",
       "      <th>malic_acid</th>\n",
       "      <th>ash</th>\n",
       "      <th>alcalinity_of_ash</th>\n",
       "      <th>magnesium</th>\n",
       "      <th>total_phenols</th>\n",
       "      <th>flavanoids</th>\n",
       "      <th>nonflavanoid_phenols</th>\n",
       "      <th>proanthocyanins</th>\n",
       "      <th>color_intensity</th>\n",
       "      <th>hue</th>\n",
       "      <th>od280/od315_of_diluted_wines</th>\n",
       "      <th>proline</th>\n",
       "    </tr>\n",
       "  </thead>\n",
       "  <tbody>\n",
       "    <tr>\n",
       "      <th>alcohol</th>\n",
       "      <td>1.000000</td>\n",
       "      <td>0.072565</td>\n",
       "      <td>0.213462</td>\n",
       "      <td>-0.364409</td>\n",
       "      <td>0.213382</td>\n",
       "      <td>0.280129</td>\n",
       "      <td>0.244927</td>\n",
       "      <td>-0.176331</td>\n",
       "      <td>0.109743</td>\n",
       "      <td>0.537837</td>\n",
       "      <td>-0.022042</td>\n",
       "      <td>0.071479</td>\n",
       "      <td>0.633371</td>\n",
       "    </tr>\n",
       "    <tr>\n",
       "      <th>malic_acid</th>\n",
       "      <td>0.072565</td>\n",
       "      <td>1.000000</td>\n",
       "      <td>0.117123</td>\n",
       "      <td>0.255905</td>\n",
       "      <td>-0.079058</td>\n",
       "      <td>-0.328901</td>\n",
       "      <td>-0.418298</td>\n",
       "      <td>0.306642</td>\n",
       "      <td>-0.241555</td>\n",
       "      <td>0.213775</td>\n",
       "      <td>-0.582324</td>\n",
       "      <td>-0.361847</td>\n",
       "      <td>-0.223447</td>\n",
       "    </tr>\n",
       "    <tr>\n",
       "      <th>ash</th>\n",
       "      <td>0.213462</td>\n",
       "      <td>0.117123</td>\n",
       "      <td>1.000000</td>\n",
       "      <td>0.434363</td>\n",
       "      <td>0.295350</td>\n",
       "      <td>0.142121</td>\n",
       "      <td>0.119412</td>\n",
       "      <td>0.181996</td>\n",
       "      <td>-0.015376</td>\n",
       "      <td>0.265764</td>\n",
       "      <td>-0.054717</td>\n",
       "      <td>-0.029290</td>\n",
       "      <td>0.240084</td>\n",
       "    </tr>\n",
       "    <tr>\n",
       "      <th>alcalinity_of_ash</th>\n",
       "      <td>-0.364409</td>\n",
       "      <td>0.255905</td>\n",
       "      <td>0.434363</td>\n",
       "      <td>1.000000</td>\n",
       "      <td>-0.135081</td>\n",
       "      <td>-0.350087</td>\n",
       "      <td>-0.357839</td>\n",
       "      <td>0.379014</td>\n",
       "      <td>-0.234086</td>\n",
       "      <td>-0.008569</td>\n",
       "      <td>-0.296443</td>\n",
       "      <td>-0.294094</td>\n",
       "      <td>-0.473159</td>\n",
       "    </tr>\n",
       "    <tr>\n",
       "      <th>magnesium</th>\n",
       "      <td>0.213382</td>\n",
       "      <td>-0.079058</td>\n",
       "      <td>0.295350</td>\n",
       "      <td>-0.135081</td>\n",
       "      <td>1.000000</td>\n",
       "      <td>0.196116</td>\n",
       "      <td>0.183083</td>\n",
       "      <td>-0.266007</td>\n",
       "      <td>0.252692</td>\n",
       "      <td>0.197377</td>\n",
       "      <td>0.068436</td>\n",
       "      <td>0.036441</td>\n",
       "      <td>0.389154</td>\n",
       "    </tr>\n",
       "    <tr>\n",
       "      <th>total_phenols</th>\n",
       "      <td>0.280129</td>\n",
       "      <td>-0.328901</td>\n",
       "      <td>0.142121</td>\n",
       "      <td>-0.350087</td>\n",
       "      <td>0.196116</td>\n",
       "      <td>1.000000</td>\n",
       "      <td>0.879233</td>\n",
       "      <td>-0.419841</td>\n",
       "      <td>0.641260</td>\n",
       "      <td>-0.050988</td>\n",
       "      <td>0.442155</td>\n",
       "      <td>0.707545</td>\n",
       "      <td>0.503703</td>\n",
       "    </tr>\n",
       "    <tr>\n",
       "      <th>flavanoids</th>\n",
       "      <td>0.244927</td>\n",
       "      <td>-0.418298</td>\n",
       "      <td>0.119412</td>\n",
       "      <td>-0.357839</td>\n",
       "      <td>0.183083</td>\n",
       "      <td>0.879233</td>\n",
       "      <td>1.000000</td>\n",
       "      <td>-0.514390</td>\n",
       "      <td>0.661770</td>\n",
       "      <td>-0.136091</td>\n",
       "      <td>0.522711</td>\n",
       "      <td>0.767437</td>\n",
       "      <td>0.488752</td>\n",
       "    </tr>\n",
       "    <tr>\n",
       "      <th>nonflavanoid_phenols</th>\n",
       "      <td>-0.176331</td>\n",
       "      <td>0.306642</td>\n",
       "      <td>0.181996</td>\n",
       "      <td>0.379014</td>\n",
       "      <td>-0.266007</td>\n",
       "      <td>-0.419841</td>\n",
       "      <td>-0.514390</td>\n",
       "      <td>1.000000</td>\n",
       "      <td>-0.369744</td>\n",
       "      <td>0.101836</td>\n",
       "      <td>-0.216716</td>\n",
       "      <td>-0.486825</td>\n",
       "      <td>-0.323114</td>\n",
       "    </tr>\n",
       "    <tr>\n",
       "      <th>proanthocyanins</th>\n",
       "      <td>0.109743</td>\n",
       "      <td>-0.241555</td>\n",
       "      <td>-0.015376</td>\n",
       "      <td>-0.234086</td>\n",
       "      <td>0.252692</td>\n",
       "      <td>0.641260</td>\n",
       "      <td>0.661770</td>\n",
       "      <td>-0.369744</td>\n",
       "      <td>1.000000</td>\n",
       "      <td>-0.075277</td>\n",
       "      <td>0.325225</td>\n",
       "      <td>0.522956</td>\n",
       "      <td>0.318741</td>\n",
       "    </tr>\n",
       "    <tr>\n",
       "      <th>color_intensity</th>\n",
       "      <td>0.537837</td>\n",
       "      <td>0.213775</td>\n",
       "      <td>0.265764</td>\n",
       "      <td>-0.008569</td>\n",
       "      <td>0.197377</td>\n",
       "      <td>-0.050988</td>\n",
       "      <td>-0.136091</td>\n",
       "      <td>0.101836</td>\n",
       "      <td>-0.075277</td>\n",
       "      <td>1.000000</td>\n",
       "      <td>-0.457080</td>\n",
       "      <td>-0.421973</td>\n",
       "      <td>0.336120</td>\n",
       "    </tr>\n",
       "    <tr>\n",
       "      <th>hue</th>\n",
       "      <td>-0.022042</td>\n",
       "      <td>-0.582324</td>\n",
       "      <td>-0.054717</td>\n",
       "      <td>-0.296443</td>\n",
       "      <td>0.068436</td>\n",
       "      <td>0.442155</td>\n",
       "      <td>0.522711</td>\n",
       "      <td>-0.216716</td>\n",
       "      <td>0.325225</td>\n",
       "      <td>-0.457080</td>\n",
       "      <td>1.000000</td>\n",
       "      <td>0.552048</td>\n",
       "      <td>0.273848</td>\n",
       "    </tr>\n",
       "    <tr>\n",
       "      <th>od280/od315_of_diluted_wines</th>\n",
       "      <td>0.071479</td>\n",
       "      <td>-0.361847</td>\n",
       "      <td>-0.029290</td>\n",
       "      <td>-0.294094</td>\n",
       "      <td>0.036441</td>\n",
       "      <td>0.707545</td>\n",
       "      <td>0.767437</td>\n",
       "      <td>-0.486825</td>\n",
       "      <td>0.522956</td>\n",
       "      <td>-0.421973</td>\n",
       "      <td>0.552048</td>\n",
       "      <td>1.000000</td>\n",
       "      <td>0.293877</td>\n",
       "    </tr>\n",
       "    <tr>\n",
       "      <th>proline</th>\n",
       "      <td>0.633371</td>\n",
       "      <td>-0.223447</td>\n",
       "      <td>0.240084</td>\n",
       "      <td>-0.473159</td>\n",
       "      <td>0.389154</td>\n",
       "      <td>0.503703</td>\n",
       "      <td>0.488752</td>\n",
       "      <td>-0.323114</td>\n",
       "      <td>0.318741</td>\n",
       "      <td>0.336120</td>\n",
       "      <td>0.273848</td>\n",
       "      <td>0.293877</td>\n",
       "      <td>1.000000</td>\n",
       "    </tr>\n",
       "  </tbody>\n",
       "</table>\n",
       "</div>"
      ],
      "text/plain": [
       "                               alcohol  malic_acid       ash  \\\n",
       "alcohol                       1.000000    0.072565  0.213462   \n",
       "malic_acid                    0.072565    1.000000  0.117123   \n",
       "ash                           0.213462    0.117123  1.000000   \n",
       "alcalinity_of_ash            -0.364409    0.255905  0.434363   \n",
       "magnesium                     0.213382   -0.079058  0.295350   \n",
       "total_phenols                 0.280129   -0.328901  0.142121   \n",
       "flavanoids                    0.244927   -0.418298  0.119412   \n",
       "nonflavanoid_phenols         -0.176331    0.306642  0.181996   \n",
       "proanthocyanins               0.109743   -0.241555 -0.015376   \n",
       "color_intensity               0.537837    0.213775  0.265764   \n",
       "hue                          -0.022042   -0.582324 -0.054717   \n",
       "od280/od315_of_diluted_wines  0.071479   -0.361847 -0.029290   \n",
       "proline                       0.633371   -0.223447  0.240084   \n",
       "\n",
       "                              alcalinity_of_ash  magnesium  total_phenols  \\\n",
       "alcohol                               -0.364409   0.213382       0.280129   \n",
       "malic_acid                             0.255905  -0.079058      -0.328901   \n",
       "ash                                    0.434363   0.295350       0.142121   \n",
       "alcalinity_of_ash                      1.000000  -0.135081      -0.350087   \n",
       "magnesium                             -0.135081   1.000000       0.196116   \n",
       "total_phenols                         -0.350087   0.196116       1.000000   \n",
       "flavanoids                            -0.357839   0.183083       0.879233   \n",
       "nonflavanoid_phenols                   0.379014  -0.266007      -0.419841   \n",
       "proanthocyanins                       -0.234086   0.252692       0.641260   \n",
       "color_intensity                       -0.008569   0.197377      -0.050988   \n",
       "hue                                   -0.296443   0.068436       0.442155   \n",
       "od280/od315_of_diluted_wines          -0.294094   0.036441       0.707545   \n",
       "proline                               -0.473159   0.389154       0.503703   \n",
       "\n",
       "                              flavanoids  nonflavanoid_phenols  \\\n",
       "alcohol                         0.244927             -0.176331   \n",
       "malic_acid                     -0.418298              0.306642   \n",
       "ash                             0.119412              0.181996   \n",
       "alcalinity_of_ash              -0.357839              0.379014   \n",
       "magnesium                       0.183083             -0.266007   \n",
       "total_phenols                   0.879233             -0.419841   \n",
       "flavanoids                      1.000000             -0.514390   \n",
       "nonflavanoid_phenols           -0.514390              1.000000   \n",
       "proanthocyanins                 0.661770             -0.369744   \n",
       "color_intensity                -0.136091              0.101836   \n",
       "hue                             0.522711             -0.216716   \n",
       "od280/od315_of_diluted_wines    0.767437             -0.486825   \n",
       "proline                         0.488752             -0.323114   \n",
       "\n",
       "                              proanthocyanins  color_intensity       hue  \\\n",
       "alcohol                              0.109743         0.537837 -0.022042   \n",
       "malic_acid                          -0.241555         0.213775 -0.582324   \n",
       "ash                                 -0.015376         0.265764 -0.054717   \n",
       "alcalinity_of_ash                   -0.234086        -0.008569 -0.296443   \n",
       "magnesium                            0.252692         0.197377  0.068436   \n",
       "total_phenols                        0.641260        -0.050988  0.442155   \n",
       "flavanoids                           0.661770        -0.136091  0.522711   \n",
       "nonflavanoid_phenols                -0.369744         0.101836 -0.216716   \n",
       "proanthocyanins                      1.000000        -0.075277  0.325225   \n",
       "color_intensity                     -0.075277         1.000000 -0.457080   \n",
       "hue                                  0.325225        -0.457080  1.000000   \n",
       "od280/od315_of_diluted_wines         0.522956        -0.421973  0.552048   \n",
       "proline                              0.318741         0.336120  0.273848   \n",
       "\n",
       "                              od280/od315_of_diluted_wines   proline  \n",
       "alcohol                                           0.071479  0.633371  \n",
       "malic_acid                                       -0.361847 -0.223447  \n",
       "ash                                              -0.029290  0.240084  \n",
       "alcalinity_of_ash                                -0.294094 -0.473159  \n",
       "magnesium                                         0.036441  0.389154  \n",
       "total_phenols                                     0.707545  0.503703  \n",
       "flavanoids                                        0.767437  0.488752  \n",
       "nonflavanoid_phenols                             -0.486825 -0.323114  \n",
       "proanthocyanins                                   0.522956  0.318741  \n",
       "color_intensity                                  -0.421973  0.336120  \n",
       "hue                                               0.552048  0.273848  \n",
       "od280/od315_of_diluted_wines                      1.000000  0.293877  \n",
       "proline                                           0.293877  1.000000  "
      ]
     },
     "execution_count": 30,
     "metadata": {},
     "output_type": "execute_result"
    }
   ],
   "source": [
    "corr_matrix = X_train.corr()\n",
    "corr_matrix"
   ]
  },
  {
   "cell_type": "code",
   "execution_count": 31,
   "id": "d009f8b7",
   "metadata": {},
   "outputs": [
    {
     "data": {
      "text/plain": [
       "<AxesSubplot:>"
      ]
     },
     "execution_count": 31,
     "metadata": {},
     "output_type": "execute_result"
    },
    {
     "data": {
      "image/png": "[encoded data removed]",
      "text/plain": [
       "<Figure size 1000x1000 with 2 Axes>"
      ]
     },
     "metadata": {},
     "output_type": "display_data"
    }
   ],
   "source": [
    "# Plotting Correlation matrix using heatmap\n",
    "plt.figure(figsize=(10,10))\n",
    "sns.heatmap(data=corr_matrix, cmap=\"YlGnBu\", annot=True)"
   ]
  },
  {
   "cell_type": "code",
   "execution_count": 32,
   "id": "03886d61",
   "metadata": {},
   "outputs": [
    {
     "name": "stdout",
     "output_type": "stream",
     "text": [
      "flavanoids ==>  0.8792329861057864\n",
      "proanthocyanins ==>  0.6412602178454514\n",
      "proanthocyanins ==>  0.6617700135657455\n",
      "od280/od315_of_diluted_wines ==>  0.7075452173835053\n",
      "od280/od315_of_diluted_wines ==>  0.7674367833200287\n",
      "proline ==>  0.6333710138427853\n",
      "\n",
      "The highly correlated columns are:: {'proline', 'flavanoids', 'proanthocyanins', 'od280/od315_of_diluted_wines'} \n"
     ]
    }
   ],
   "source": [
    "# Getting removable columns which are highly correlated\n",
    "\n",
    "threshold=0.6\n",
    "removable_col = set()\n",
    "\n",
    "for row in range(len(corr_matrix)):\n",
    "  for col in range(row):\n",
    "    if abs(corr_matrix.iloc[row][col]) > threshold:\n",
    "      print(corr_matrix.columns[row] , \"==> \", corr_matrix.iloc[row][col])\n",
    "      removable_col.add(corr_matrix.columns[row])\n",
    "print()\n",
    "print(f\"The highly correlated columns are:: {removable_col} \")\n"
   ]
  },
  {
   "cell_type": "code",
   "execution_count": 33,
   "id": "d090b17b",
   "metadata": {},
   "outputs": [],
   "source": [
    "# Removing highly correlated data from train & test data\n",
    "X_train = X_train.drop(removable_col, axis=1)\n",
    "X_test = X_test.drop(removable_col, axis=1)"
   ]
  },
  {
   "cell_type": "code",
   "execution_count": 34,
   "id": "109a40b0",
   "metadata": {},
   "outputs": [],
   "source": [
    "# Converting iv and dv in array form\n",
    "\n",
    "X_train = np.asarray(X_train)\n",
    "X_test = np.asarray(X_test)\n",
    "y_train = np.asarray(y_train)\n",
    "y_test = np.asarray(y_test)\n"
   ]
  },
  {
   "cell_type": "code",
   "execution_count": 35,
   "id": "9708b23b",
   "metadata": {},
   "outputs": [],
   "source": [
    "# Importing SVC from SVM\n",
    "from sklearn.svm import SVC"
   ]
  },
  {
   "cell_type": "markdown",
   "id": "47d9fb4e",
   "metadata": {},
   "source": [
    "## Training svm using kernal as polynomial"
   ]
  },
  {
   "cell_type": "code",
   "execution_count": 36,
   "id": "223fbb86",
   "metadata": {},
   "outputs": [
    {
     "data": {
      "text/plain": [
       "SVC(kernel='poly')"
      ]
     },
     "execution_count": 36,
     "metadata": {},
     "output_type": "execute_result"
    }
   ],
   "source": [
    "#Train model with SVM using polynomial kernel\n",
    "clf = SVC(kernel='poly')\n",
    "clf.fit(X_train, y_train)"
   ]
  },
  {
   "cell_type": "code",
   "execution_count": 37,
   "id": "b5331cd9",
   "metadata": {},
   "outputs": [],
   "source": [
    "# predict data\n",
    "y_hat = clf.predict(X_test)"
   ]
  },
  {
   "cell_type": "code",
   "execution_count": 38,
   "id": "43a0efa4",
   "metadata": {},
   "outputs": [],
   "source": [
    "# importing performance metrics which are appropriate for classification\n",
    "from sklearn.metrics import f1_score\n",
    "from sklearn.metrics import accuracy_score"
   ]
  },
  {
   "cell_type": "code",
   "execution_count": 39,
   "id": "ac13a223",
   "metadata": {},
   "outputs": [
    {
     "name": "stdout",
     "output_type": "stream",
     "text": [
      "accuracy_score = 58.33%\n",
      "f1_score = 52.78\n"
     ]
    }
   ],
   "source": [
    "print(f\"accuracy_score = {accuracy_score(y_test, y_hat)*100:.2f}%\")\n",
    "print(f\"f1_score = {f1_score(y_test, y_hat, average = 'weighted')*100:.2f}\")"
   ]
  },
  {
   "cell_type": "markdown",
   "id": "437dc84f",
   "metadata": {},
   "source": [
    "## Training svm using kernel as rbf"
   ]
  },
  {
   "cell_type": "code",
   "execution_count": 40,
   "id": "e01c938d",
   "metadata": {},
   "outputs": [
    {
     "data": {
      "text/plain": [
       "SVC()"
      ]
     },
     "execution_count": 40,
     "metadata": {},
     "output_type": "execute_result"
    }
   ],
   "source": [
    "clf1 = SVC(kernel='rbf')\n",
    "clf1.fit(X_train, y_train)"
   ]
  },
  {
   "cell_type": "code",
   "execution_count": 41,
   "id": "ced9f312",
   "metadata": {},
   "outputs": [],
   "source": [
    "# predict data\n",
    "y_hat1 = clf1.predict(X_test)"
   ]
  },
  {
   "cell_type": "code",
   "execution_count": 42,
   "id": "109163c4",
   "metadata": {},
   "outputs": [
    {
     "name": "stdout",
     "output_type": "stream",
     "text": [
      "accuracy_score = 52.78%\n",
      "f1_score = 45.28\n"
     ]
    }
   ],
   "source": [
    "print(f\"accuracy_score = {accuracy_score(y_test, y_hat1)*100:.2f}%\")\n",
    "print(f\"f1_score = {f1_score(y_test, y_hat1, average = 'weighted')*100:.2f}\")"
   ]
  },
  {
   "cell_type": "markdown",
   "id": "d047a2f2",
   "metadata": {},
   "source": [
    "## Training svm using  kernel as linear"
   ]
  },
  {
   "cell_type": "code",
   "execution_count": 43,
   "id": "4e08c9d6",
   "metadata": {},
   "outputs": [
    {
     "data": {
      "text/plain": [
       "SVC(kernel='linear')"
      ]
     },
     "execution_count": 43,
     "metadata": {},
     "output_type": "execute_result"
    }
   ],
   "source": [
    "clf2 = SVC(kernel='linear')\n",
    "clf2.fit(X_train, y_train)"
   ]
  },
  {
   "cell_type": "code",
   "execution_count": 44,
   "id": "cec7f3a3",
   "metadata": {},
   "outputs": [],
   "source": [
    "# predict data\n",
    "y_hat2 = clf2.predict(X_test)"
   ]
  },
  {
   "cell_type": "code",
   "execution_count": 45,
   "id": "20c5de09",
   "metadata": {},
   "outputs": [
    {
     "name": "stdout",
     "output_type": "stream",
     "text": [
      "accuracy_score = 97.22%\n",
      "f1_score = 97.24\n"
     ]
    }
   ],
   "source": [
    "print(f\"accuracy_score = {accuracy_score(y_test, y_hat2)*100:.2f}%\")\n",
    "print(f\"f1_score = {f1_score(y_test, y_hat2, average = 'weighted')*100:.2f}\")"
   ]
  },
  {
   "cell_type": "markdown",
   "id": "93051d86",
   "metadata": {},
   "source": [
    "## Using kernel as linear we got highest accuracy as 97.22%"
   ]
  },
  {
   "cell_type": "markdown",
   "id": "ce3822ad",
   "metadata": {},
   "source": [
    "# Q5. Using sklearn.datasets.load_boston apply Mutual info Regression and check which are the best columns according to the target column. \n",
    " "
   ]
  },
  {
   "cell_type": "code",
   "execution_count": 46,
   "id": "909862bd",
   "metadata": {},
   "outputs": [],
   "source": [
    "import warnings\n",
    "warnings.filterwarnings('ignore')"
   ]
  },
  {
   "cell_type": "code",
   "execution_count": 47,
   "id": "21828234",
   "metadata": {},
   "outputs": [],
   "source": [
    "# Loading boston dataset from sklearn\n",
    "from sklearn.datasets import load_boston\n",
    "boston = load_boston()"
   ]
  },
  {
   "cell_type": "code",
   "execution_count": 48,
   "id": "6aa86726",
   "metadata": {},
   "outputs": [],
   "source": [
    "# Preparing boston data into dataframe\n",
    "boston_df = pd.DataFrame(data=boston.data, columns=boston.feature_names)\n",
    "boston_df[\"Target\"] = pd.Series(boston.target)"
   ]
  },
  {
   "cell_type": "code",
   "execution_count": 49,
   "id": "017ff3a5",
   "metadata": {},
   "outputs": [
    {
     "data": {
      "text/html": [
       "<div>\n",
       "<style scoped>\n",
       "    .dataframe tbody tr th:only-of-type {\n",
       "        vertical-align: middle;\n",
       "    }\n",
       "\n",
       "    .dataframe tbody tr th {\n",
       "        vertical-align: top;\n",
       "    }\n",
       "\n",
       "    .dataframe thead th {\n",
       "        text-align: right;\n",
       "    }\n",
       "</style>\n",
       "<table border=\"1\" class=\"dataframe\">\n",
       "  <thead>\n",
       "    <tr style=\"text-align: right;\">\n",
       "      <th></th>\n",
       "      <th>CRIM</th>\n",
       "      <th>ZN</th>\n",
       "      <th>INDUS</th>\n",
       "      <th>CHAS</th>\n",
       "      <th>NOX</th>\n",
       "      <th>RM</th>\n",
       "      <th>AGE</th>\n",
       "      <th>DIS</th>\n",
       "      <th>RAD</th>\n",
       "      <th>TAX</th>\n",
       "      <th>PTRATIO</th>\n",
       "      <th>B</th>\n",
       "      <th>LSTAT</th>\n",
       "      <th>Target</th>\n",
       "    </tr>\n",
       "  </thead>\n",
       "  <tbody>\n",
       "    <tr>\n",
       "      <th>0</th>\n",
       "      <td>0.00632</td>\n",
       "      <td>18.0</td>\n",
       "      <td>2.31</td>\n",
       "      <td>0.0</td>\n",
       "      <td>0.538</td>\n",
       "      <td>6.575</td>\n",
       "      <td>65.2</td>\n",
       "      <td>4.0900</td>\n",
       "      <td>1.0</td>\n",
       "      <td>296.0</td>\n",
       "      <td>15.3</td>\n",
       "      <td>396.90</td>\n",
       "      <td>4.98</td>\n",
       "      <td>24.0</td>\n",
       "    </tr>\n",
       "    <tr>\n",
       "      <th>1</th>\n",
       "      <td>0.02731</td>\n",
       "      <td>0.0</td>\n",
       "      <td>7.07</td>\n",
       "      <td>0.0</td>\n",
       "      <td>0.469</td>\n",
       "      <td>6.421</td>\n",
       "      <td>78.9</td>\n",
       "      <td>4.9671</td>\n",
       "      <td>2.0</td>\n",
       "      <td>242.0</td>\n",
       "      <td>17.8</td>\n",
       "      <td>396.90</td>\n",
       "      <td>9.14</td>\n",
       "      <td>21.6</td>\n",
       "    </tr>\n",
       "    <tr>\n",
       "      <th>2</th>\n",
       "      <td>0.02729</td>\n",
       "      <td>0.0</td>\n",
       "      <td>7.07</td>\n",
       "      <td>0.0</td>\n",
       "      <td>0.469</td>\n",
       "      <td>7.185</td>\n",
       "      <td>61.1</td>\n",
       "      <td>4.9671</td>\n",
       "      <td>2.0</td>\n",
       "      <td>242.0</td>\n",
       "      <td>17.8</td>\n",
       "      <td>392.83</td>\n",
       "      <td>4.03</td>\n",
       "      <td>34.7</td>\n",
       "    </tr>\n",
       "    <tr>\n",
       "      <th>3</th>\n",
       "      <td>0.03237</td>\n",
       "      <td>0.0</td>\n",
       "      <td>2.18</td>\n",
       "      <td>0.0</td>\n",
       "      <td>0.458</td>\n",
       "      <td>6.998</td>\n",
       "      <td>45.8</td>\n",
       "      <td>6.0622</td>\n",
       "      <td>3.0</td>\n",
       "      <td>222.0</td>\n",
       "      <td>18.7</td>\n",
       "      <td>394.63</td>\n",
       "      <td>2.94</td>\n",
       "      <td>33.4</td>\n",
       "    </tr>\n",
       "    <tr>\n",
       "      <th>4</th>\n",
       "      <td>0.06905</td>\n",
       "      <td>0.0</td>\n",
       "      <td>2.18</td>\n",
       "      <td>0.0</td>\n",
       "      <td>0.458</td>\n",
       "      <td>7.147</td>\n",
       "      <td>54.2</td>\n",
       "      <td>6.0622</td>\n",
       "      <td>3.0</td>\n",
       "      <td>222.0</td>\n",
       "      <td>18.7</td>\n",
       "      <td>396.90</td>\n",
       "      <td>5.33</td>\n",
       "      <td>36.2</td>\n",
       "    </tr>\n",
       "  </tbody>\n",
       "</table>\n",
       "</div>"
      ],
      "text/plain": [
       "      CRIM    ZN  INDUS  CHAS    NOX     RM   AGE     DIS  RAD    TAX  \\\n",
       "0  0.00632  18.0   2.31   0.0  0.538  6.575  65.2  4.0900  1.0  296.0   \n",
       "1  0.02731   0.0   7.07   0.0  0.469  6.421  78.9  4.9671  2.0  242.0   \n",
       "2  0.02729   0.0   7.07   0.0  0.469  7.185  61.1  4.9671  2.0  242.0   \n",
       "3  0.03237   0.0   2.18   0.0  0.458  6.998  45.8  6.0622  3.0  222.0   \n",
       "4  0.06905   0.0   2.18   0.0  0.458  7.147  54.2  6.0622  3.0  222.0   \n",
       "\n",
       "   PTRATIO       B  LSTAT  Target  \n",
       "0     15.3  396.90   4.98    24.0  \n",
       "1     17.8  396.90   9.14    21.6  \n",
       "2     17.8  392.83   4.03    34.7  \n",
       "3     18.7  394.63   2.94    33.4  \n",
       "4     18.7  396.90   5.33    36.2  "
      ]
     },
     "execution_count": 49,
     "metadata": {},
     "output_type": "execute_result"
    }
   ],
   "source": [
    "# having a quick look \n",
    "boston_df.head()"
   ]
  },
  {
   "cell_type": "code",
   "execution_count": 50,
   "id": "b2994f3d",
   "metadata": {},
   "outputs": [
    {
     "name": "stdout",
     "output_type": "stream",
     "text": [
      "<class 'pandas.core.frame.DataFrame'>\n",
      "RangeIndex: 506 entries, 0 to 505\n",
      "Data columns (total 14 columns):\n",
      " #   Column   Non-Null Count  Dtype  \n",
      "---  ------   --------------  -----  \n",
      " 0   CRIM     506 non-null    float64\n",
      " 1   ZN       506 non-null    float64\n",
      " 2   INDUS    506 non-null    float64\n",
      " 3   CHAS     506 non-null    float64\n",
      " 4   NOX      506 non-null    float64\n",
      " 5   RM       506 non-null    float64\n",
      " 6   AGE      506 non-null    float64\n",
      " 7   DIS      506 non-null    float64\n",
      " 8   RAD      506 non-null    float64\n",
      " 9   TAX      506 non-null    float64\n",
      " 10  PTRATIO  506 non-null    float64\n",
      " 11  B        506 non-null    float64\n",
      " 12  LSTAT    506 non-null    float64\n",
      " 13  Target   506 non-null    float64\n",
      "dtypes: float64(14)\n",
      "memory usage: 55.5 KB\n"
     ]
    }
   ],
   "source": [
    "# info about dataset\n",
    "boston_df.info()"
   ]
  },
  {
   "cell_type": "code",
   "execution_count": 51,
   "id": "cfb30af7",
   "metadata": {},
   "outputs": [],
   "source": [
    "# Getting independent variables and dependent variable\n",
    "X = boston_df.drop('Target', axis=1)\n",
    "y = boston_df['Target']"
   ]
  },
  {
   "cell_type": "code",
   "execution_count": 52,
   "id": "eb5cf971",
   "metadata": {},
   "outputs": [
    {
     "data": {
      "text/plain": [
       "Index(['CRIM', 'ZN', 'INDUS', 'CHAS', 'NOX', 'RM', 'AGE', 'DIS', 'RAD', 'TAX',\n",
       "       'PTRATIO', 'B', 'LSTAT'],\n",
       "      dtype='object')"
      ]
     },
     "execution_count": 52,
     "metadata": {},
     "output_type": "execute_result"
    }
   ],
   "source": [
    "X.columns"
   ]
  },
  {
   "cell_type": "markdown",
   "id": "15e223ce",
   "metadata": {},
   "source": [
    "# Mutual information regression"
   ]
  },
  {
   "cell_type": "code",
   "execution_count": 53,
   "id": "9d428fc5",
   "metadata": {},
   "outputs": [],
   "source": [
    "# importing mutual_info_regression from sklearn\n",
    "from sklearn.feature_selection import mutual_info_regression\n",
    "mir = mutual_info_regression(X.values, y.values)"
   ]
  },
  {
   "cell_type": "code",
   "execution_count": 54,
   "id": "cd56fc90",
   "metadata": {},
   "outputs": [
    {
     "data": {
      "text/plain": [
       "array([0.34631784, 0.19112561, 0.47296137, 0.01833826, 0.45475616,\n",
       "       0.53032349, 0.31481796, 0.29714812, 0.23085895, 0.36237858,\n",
       "       0.44378634, 0.17115919, 0.66830403])"
      ]
     },
     "execution_count": 54,
     "metadata": {},
     "output_type": "execute_result"
    }
   ],
   "source": [
    "mir"
   ]
  },
  {
   "cell_type": "code",
   "execution_count": 55,
   "id": "a955b7d1",
   "metadata": {},
   "outputs": [],
   "source": [
    "# indepent features column names\n",
    "ivnames = ['CRIM', 'ZN', 'INDUS', 'CHAS', 'NOX', 'RM', 'AGE', 'DIS', 'RAD', 'TAX',\n",
    "       'PTRATIO', 'B', 'LSTAT']"
   ]
  },
  {
   "cell_type": "code",
   "execution_count": 56,
   "id": "06af61ac",
   "metadata": {},
   "outputs": [
    {
     "data": {
      "text/plain": [
       "LSTAT      0.668304\n",
       "RM         0.530323\n",
       "INDUS      0.472961\n",
       "NOX        0.454756\n",
       "PTRATIO    0.443786\n",
       "TAX        0.362379\n",
       "CRIM       0.346318\n",
       "AGE        0.314818\n",
       "DIS        0.297148\n",
       "RAD        0.230859\n",
       "ZN         0.191126\n",
       "B          0.171159\n",
       "CHAS       0.018338\n",
       "dtype: float64"
      ]
     },
     "execution_count": 56,
     "metadata": {},
     "output_type": "execute_result"
    }
   ],
   "source": [
    "# Converting mir into mir_series and getting mir_ser with column names in decending order\n",
    "mir_ser = pd.Series(mir)\n",
    "mir_ser.index = ivnames\n",
    "mir_ser.sort_values(ascending=False)"
   ]
  },
  {
   "cell_type": "code",
   "execution_count": 57,
   "id": "0173d2f3",
   "metadata": {},
   "outputs": [
    {
     "name": "stdout",
     "output_type": "stream",
     "text": [
      "ZN 0.1911256099484031\n",
      "CHAS 0.018338256614125914\n",
      "B 0.17115919404474367\n",
      "\n",
      "All the least significant column list is :: ['ZN', 'CHAS', 'B'] \n"
     ]
    }
   ],
   "source": [
    "# getting least significant columns in a list\n",
    "removable_column = []\n",
    "for col in mir_ser.index:\n",
    "    if mir_ser[col] < 0.20:\n",
    "        print(col, mir_ser[col])\n",
    "        removable_column.append(col)\n",
    "print()\n",
    "print(f\"All the least significant column list is :: {removable_column} \")"
   ]
  },
  {
   "cell_type": "code",
   "execution_count": 58,
   "id": "79d5522a",
   "metadata": {},
   "outputs": [
    {
     "data": {
      "text/html": [
       "<div>\n",
       "<style scoped>\n",
       "    .dataframe tbody tr th:only-of-type {\n",
       "        vertical-align: middle;\n",
       "    }\n",
       "\n",
       "    .dataframe tbody tr th {\n",
       "        vertical-align: top;\n",
       "    }\n",
       "\n",
       "    .dataframe thead th {\n",
       "        text-align: right;\n",
       "    }\n",
       "</style>\n",
       "<table border=\"1\" class=\"dataframe\">\n",
       "  <thead>\n",
       "    <tr style=\"text-align: right;\">\n",
       "      <th></th>\n",
       "      <th>CRIM</th>\n",
       "      <th>INDUS</th>\n",
       "      <th>NOX</th>\n",
       "      <th>RM</th>\n",
       "      <th>AGE</th>\n",
       "      <th>DIS</th>\n",
       "      <th>RAD</th>\n",
       "      <th>TAX</th>\n",
       "      <th>PTRATIO</th>\n",
       "      <th>LSTAT</th>\n",
       "      <th>Target</th>\n",
       "    </tr>\n",
       "  </thead>\n",
       "  <tbody>\n",
       "    <tr>\n",
       "      <th>0</th>\n",
       "      <td>0.00632</td>\n",
       "      <td>2.31</td>\n",
       "      <td>0.538</td>\n",
       "      <td>6.575</td>\n",
       "      <td>65.2</td>\n",
       "      <td>4.0900</td>\n",
       "      <td>1.0</td>\n",
       "      <td>296.0</td>\n",
       "      <td>15.3</td>\n",
       "      <td>4.98</td>\n",
       "      <td>24.0</td>\n",
       "    </tr>\n",
       "    <tr>\n",
       "      <th>1</th>\n",
       "      <td>0.02731</td>\n",
       "      <td>7.07</td>\n",
       "      <td>0.469</td>\n",
       "      <td>6.421</td>\n",
       "      <td>78.9</td>\n",
       "      <td>4.9671</td>\n",
       "      <td>2.0</td>\n",
       "      <td>242.0</td>\n",
       "      <td>17.8</td>\n",
       "      <td>9.14</td>\n",
       "      <td>21.6</td>\n",
       "    </tr>\n",
       "    <tr>\n",
       "      <th>2</th>\n",
       "      <td>0.02729</td>\n",
       "      <td>7.07</td>\n",
       "      <td>0.469</td>\n",
       "      <td>7.185</td>\n",
       "      <td>61.1</td>\n",
       "      <td>4.9671</td>\n",
       "      <td>2.0</td>\n",
       "      <td>242.0</td>\n",
       "      <td>17.8</td>\n",
       "      <td>4.03</td>\n",
       "      <td>34.7</td>\n",
       "    </tr>\n",
       "    <tr>\n",
       "      <th>3</th>\n",
       "      <td>0.03237</td>\n",
       "      <td>2.18</td>\n",
       "      <td>0.458</td>\n",
       "      <td>6.998</td>\n",
       "      <td>45.8</td>\n",
       "      <td>6.0622</td>\n",
       "      <td>3.0</td>\n",
       "      <td>222.0</td>\n",
       "      <td>18.7</td>\n",
       "      <td>2.94</td>\n",
       "      <td>33.4</td>\n",
       "    </tr>\n",
       "    <tr>\n",
       "      <th>4</th>\n",
       "      <td>0.06905</td>\n",
       "      <td>2.18</td>\n",
       "      <td>0.458</td>\n",
       "      <td>7.147</td>\n",
       "      <td>54.2</td>\n",
       "      <td>6.0622</td>\n",
       "      <td>3.0</td>\n",
       "      <td>222.0</td>\n",
       "      <td>18.7</td>\n",
       "      <td>5.33</td>\n",
       "      <td>36.2</td>\n",
       "    </tr>\n",
       "  </tbody>\n",
       "</table>\n",
       "</div>"
      ],
      "text/plain": [
       "      CRIM  INDUS    NOX     RM   AGE     DIS  RAD    TAX  PTRATIO  LSTAT  \\\n",
       "0  0.00632   2.31  0.538  6.575  65.2  4.0900  1.0  296.0     15.3   4.98   \n",
       "1  0.02731   7.07  0.469  6.421  78.9  4.9671  2.0  242.0     17.8   9.14   \n",
       "2  0.02729   7.07  0.469  7.185  61.1  4.9671  2.0  242.0     17.8   4.03   \n",
       "3  0.03237   2.18  0.458  6.998  45.8  6.0622  3.0  222.0     18.7   2.94   \n",
       "4  0.06905   2.18  0.458  7.147  54.2  6.0622  3.0  222.0     18.7   5.33   \n",
       "\n",
       "   Target  \n",
       "0    24.0  \n",
       "1    21.6  \n",
       "2    34.7  \n",
       "3    33.4  \n",
       "4    36.2  "
      ]
     },
     "execution_count": 58,
     "metadata": {},
     "output_type": "execute_result"
    }
   ],
   "source": [
    "# removing least significant columns from the independent dataframe\n",
    "# The best columns according to the target column\n",
    "data = boston_df.drop(removable_column, axis=1)\n",
    "data.head()"
   ]
  },
  {
   "cell_type": "code",
   "execution_count": 59,
   "id": "24b8b9ab",
   "metadata": {},
   "outputs": [
    {
     "name": "stdout",
     "output_type": "stream",
     "text": [
      "Shape of data before removing least significant columns ==> (506, 14)\n",
      "Shape of data after removing least significant columns ==> (506, 11)\n"
     ]
    }
   ],
   "source": [
    "print(f\"Shape of data before removing least significant columns ==> {boston_df.shape}\")\n",
    "print(f\"Shape of data after removing least significant columns ==> {data.shape}\")"
   ]
  },
  {
   "cell_type": "markdown",
   "id": "3d2f8bce",
   "metadata": {},
   "source": [
    "# Q6. Then Apply MultiLinear Regression on that data and try to get best accuracy by changing the hyperparameters\n"
   ]
  },
  {
   "cell_type": "code",
   "execution_count": 60,
   "id": "fac186ca",
   "metadata": {},
   "outputs": [],
   "source": [
    "# independent & dependent variable\n",
    "iv = data.drop('Target', axis=1).values\n",
    "dv = data['Target'].values"
   ]
  },
  {
   "cell_type": "code",
   "execution_count": 61,
   "id": "99571b14",
   "metadata": {},
   "outputs": [],
   "source": [
    "# Splitting the data into train & test data\n",
    "X_train, X_test, y_train, y_test = train_test_split(iv, dv, test_size=0.2, random_state=130)"
   ]
  },
  {
   "cell_type": "code",
   "execution_count": 62,
   "id": "439bd8ee",
   "metadata": {},
   "outputs": [],
   "source": [
    "from sklearn.linear_model import LinearRegression\n",
    "mr = LinearRegression()"
   ]
  },
  {
   "cell_type": "code",
   "execution_count": 63,
   "id": "3fe61590",
   "metadata": {},
   "outputs": [
    {
     "data": {
      "text/plain": [
       "LinearRegression()"
      ]
     },
     "execution_count": 63,
     "metadata": {},
     "output_type": "execute_result"
    }
   ],
   "source": [
    "# Fitting the model\n",
    "mr.fit(X_train, y_train)"
   ]
  },
  {
   "cell_type": "code",
   "execution_count": 64,
   "id": "d4bba595",
   "metadata": {},
   "outputs": [
    {
     "name": "stdout",
     "output_type": "stream",
     "text": [
      "Coeficient:=> [-1.24760665e-01 -2.38305865e-02 -2.05481515e+01  3.68553030e+00\n",
      " -3.11273756e-03 -1.32045009e+00  3.22008321e-01 -1.13433362e-02\n",
      " -1.17372672e+00 -5.39634778e-01]\n",
      "Intercept:=> 46.91542529591281\n"
     ]
    }
   ],
   "source": [
    "# The parameters/ The cooeficient  i.e. Slope(s) & Intercept\n",
    "print(f\"Coeficient:=> {mr.coef_}\")\n",
    "print(f\"Intercept:=> {mr.intercept_}\")"
   ]
  },
  {
   "cell_type": "code",
   "execution_count": 65,
   "id": "7da1a021",
   "metadata": {},
   "outputs": [],
   "source": [
    "# Prediction\n",
    "pred_y = mr.predict(X_test)"
   ]
  },
  {
   "cell_type": "code",
   "execution_count": 66,
   "id": "53681de8",
   "metadata": {},
   "outputs": [
    {
     "name": "stdout",
     "output_type": "stream",
     "text": [
      "Mean Absolute Error : 3.0882688695771447\n",
      "Mean squared Error : 17.012001852270384\n",
      "R2 score : 74.18%\n"
     ]
    }
   ],
   "source": [
    "# Calculating error\n",
    "print(\"Mean Absolute Error :\", mean_absolute_error(y_test, pred_y) )\n",
    "print(\"Mean squared Error :\", mean_squared_error(y_test, pred_y) )\n",
    "print(f\"R2 score : {r2_score(y_test, pred_y)*100:.2f}%\")\n"
   ]
  },
  {
   "cell_type": "markdown",
   "id": "ff4e418f",
   "metadata": {},
   "source": [
    "# Q3. Using sklearn.datasets.load_diabetes apply Mutual info Classification and check which are the best columns according to the target column. \n"
   ]
  },
  {
   "cell_type": "code",
   "execution_count": 67,
   "id": "d08e2ad0",
   "metadata": {},
   "outputs": [],
   "source": [
    "# Loading diabetes data from sklearn\n",
    "dibetes = data = datasets.load_diabetes()"
   ]
  },
  {
   "cell_type": "code",
   "execution_count": 68,
   "id": "3c6ccc49",
   "metadata": {},
   "outputs": [],
   "source": [
    "# Converting diabetes data into dataframe\n",
    "diabtes_df = pd.DataFrame(data=dibetes.data, columns=dibetes.feature_names)\n",
    "diabtes_df['Target'] = pd.Series(dibetes.target)"
   ]
  },
  {
   "cell_type": "code",
   "execution_count": 69,
   "id": "41cac9ea",
   "metadata": {},
   "outputs": [
    {
     "data": {
      "text/html": [
       "<div>\n",
       "<style scoped>\n",
       "    .dataframe tbody tr th:only-of-type {\n",
       "        vertical-align: middle;\n",
       "    }\n",
       "\n",
       "    .dataframe tbody tr th {\n",
       "        vertical-align: top;\n",
       "    }\n",
       "\n",
       "    .dataframe thead th {\n",
       "        text-align: right;\n",
       "    }\n",
       "</style>\n",
       "<table border=\"1\" class=\"dataframe\">\n",
       "  <thead>\n",
       "    <tr style=\"text-align: right;\">\n",
       "      <th></th>\n",
       "      <th>age</th>\n",
       "      <th>sex</th>\n",
       "      <th>bmi</th>\n",
       "      <th>bp</th>\n",
       "      <th>s1</th>\n",
       "      <th>s2</th>\n",
       "      <th>s3</th>\n",
       "      <th>s4</th>\n",
       "      <th>s5</th>\n",
       "      <th>s6</th>\n",
       "      <th>Target</th>\n",
       "    </tr>\n",
       "  </thead>\n",
       "  <tbody>\n",
       "    <tr>\n",
       "      <th>0</th>\n",
       "      <td>0.038076</td>\n",
       "      <td>0.050680</td>\n",
       "      <td>0.061696</td>\n",
       "      <td>0.021872</td>\n",
       "      <td>-0.044223</td>\n",
       "      <td>-0.034821</td>\n",
       "      <td>-0.043401</td>\n",
       "      <td>-0.002592</td>\n",
       "      <td>0.019908</td>\n",
       "      <td>-0.017646</td>\n",
       "      <td>151.0</td>\n",
       "    </tr>\n",
       "    <tr>\n",
       "      <th>1</th>\n",
       "      <td>-0.001882</td>\n",
       "      <td>-0.044642</td>\n",
       "      <td>-0.051474</td>\n",
       "      <td>-0.026328</td>\n",
       "      <td>-0.008449</td>\n",
       "      <td>-0.019163</td>\n",
       "      <td>0.074412</td>\n",
       "      <td>-0.039493</td>\n",
       "      <td>-0.068330</td>\n",
       "      <td>-0.092204</td>\n",
       "      <td>75.0</td>\n",
       "    </tr>\n",
       "    <tr>\n",
       "      <th>2</th>\n",
       "      <td>0.085299</td>\n",
       "      <td>0.050680</td>\n",
       "      <td>0.044451</td>\n",
       "      <td>-0.005671</td>\n",
       "      <td>-0.045599</td>\n",
       "      <td>-0.034194</td>\n",
       "      <td>-0.032356</td>\n",
       "      <td>-0.002592</td>\n",
       "      <td>0.002864</td>\n",
       "      <td>-0.025930</td>\n",
       "      <td>141.0</td>\n",
       "    </tr>\n",
       "    <tr>\n",
       "      <th>3</th>\n",
       "      <td>-0.089063</td>\n",
       "      <td>-0.044642</td>\n",
       "      <td>-0.011595</td>\n",
       "      <td>-0.036656</td>\n",
       "      <td>0.012191</td>\n",
       "      <td>0.024991</td>\n",
       "      <td>-0.036038</td>\n",
       "      <td>0.034309</td>\n",
       "      <td>0.022692</td>\n",
       "      <td>-0.009362</td>\n",
       "      <td>206.0</td>\n",
       "    </tr>\n",
       "    <tr>\n",
       "      <th>4</th>\n",
       "      <td>0.005383</td>\n",
       "      <td>-0.044642</td>\n",
       "      <td>-0.036385</td>\n",
       "      <td>0.021872</td>\n",
       "      <td>0.003935</td>\n",
       "      <td>0.015596</td>\n",
       "      <td>0.008142</td>\n",
       "      <td>-0.002592</td>\n",
       "      <td>-0.031991</td>\n",
       "      <td>-0.046641</td>\n",
       "      <td>135.0</td>\n",
       "    </tr>\n",
       "  </tbody>\n",
       "</table>\n",
       "</div>"
      ],
      "text/plain": [
       "        age       sex       bmi        bp        s1        s2        s3  \\\n",
       "0  0.038076  0.050680  0.061696  0.021872 -0.044223 -0.034821 -0.043401   \n",
       "1 -0.001882 -0.044642 -0.051474 -0.026328 -0.008449 -0.019163  0.074412   \n",
       "2  0.085299  0.050680  0.044451 -0.005671 -0.045599 -0.034194 -0.032356   \n",
       "3 -0.089063 -0.044642 -0.011595 -0.036656  0.012191  0.024991 -0.036038   \n",
       "4  0.005383 -0.044642 -0.036385  0.021872  0.003935  0.015596  0.008142   \n",
       "\n",
       "         s4        s5        s6  Target  \n",
       "0 -0.002592  0.019908 -0.017646   151.0  \n",
       "1 -0.039493 -0.068330 -0.092204    75.0  \n",
       "2 -0.002592  0.002864 -0.025930   141.0  \n",
       "3  0.034309  0.022692 -0.009362   206.0  \n",
       "4 -0.002592 -0.031991 -0.046641   135.0  "
      ]
     },
     "execution_count": 69,
     "metadata": {},
     "output_type": "execute_result"
    }
   ],
   "source": [
    "diabtes_df.head()"
   ]
  },
  {
   "cell_type": "markdown",
   "id": "1346bc83",
   "metadata": {},
   "source": [
    "## Applying mutual_info_classification"
   ]
  },
  {
   "cell_type": "code",
   "execution_count": 70,
   "id": "605add0e",
   "metadata": {},
   "outputs": [],
   "source": [
    "# Getting all independent features\n",
    "xx= diabtes_df.drop('Target', axis=1)\n",
    "yy = diabtes_df[['Target']]"
   ]
  },
  {
   "cell_type": "code",
   "execution_count": 71,
   "id": "ca941eb0",
   "metadata": {},
   "outputs": [
    {
     "data": {
      "text/plain": [
       "Index(['age', 'sex', 'bmi', 'bp', 's1', 's2', 's3', 's4', 's5', 's6'], dtype='object')"
      ]
     },
     "execution_count": 71,
     "metadata": {},
     "output_type": "execute_result"
    }
   ],
   "source": [
    "# getting all independent features name\n",
    "iv_columns = xx.columns\n",
    "iv_columns"
   ]
  },
  {
   "cell_type": "code",
   "execution_count": 72,
   "id": "31527295",
   "metadata": {},
   "outputs": [
    {
     "data": {
      "text/plain": [
       "array([0.06489581, 0.66659634, 0.15260421, 0.03608563, 0.        ,\n",
       "       0.        , 0.16614562, 0.1754672 , 0.18821166, 0.        ])"
      ]
     },
     "execution_count": 72,
     "metadata": {},
     "output_type": "execute_result"
    }
   ],
   "source": [
    "from sklearn.feature_selection import mutual_info_classif\n",
    "Mic = mutual_info_classif(xx.values, yy.values)\n",
    "Mic"
   ]
  },
  {
   "cell_type": "code",
   "execution_count": 73,
   "id": "99f53da9",
   "metadata": {},
   "outputs": [
    {
     "data": {
      "text/plain": [
       "sex    0.666596\n",
       "s5     0.188212\n",
       "s4     0.175467\n",
       "s3     0.166146\n",
       "bmi    0.152604\n",
       "age    0.064896\n",
       "bp     0.036086\n",
       "s1     0.000000\n",
       "s2     0.000000\n",
       "s6     0.000000\n",
       "dtype: float64"
      ]
     },
     "execution_count": 73,
     "metadata": {},
     "output_type": "execute_result"
    }
   ],
   "source": [
    "# Convert Mir array form into series form with column names\n",
    "Mic_ser = pd.Series(Mic)\n",
    "Mic_ser.index = iv_columns\n",
    "Mic_ser.sort_values(ascending=False)"
   ]
  },
  {
   "cell_type": "code",
   "execution_count": 74,
   "id": "b447f480",
   "metadata": {},
   "outputs": [
    {
     "name": "stdout",
     "output_type": "stream",
     "text": [
      "s1 0.0\n",
      "s2 0.0\n",
      "s6 0.0\n",
      "\n",
      "The unsignificant column list is :: ['s1', 's2', 's6'] \n"
     ]
    }
   ],
   "source": [
    "# Getting unsignificant columns\n",
    "remov_columns = []\n",
    "for col in Mic_ser.index:\n",
    "    if Mic_ser[col] == 0:\n",
    "        print(col, Mic_ser[col])\n",
    "        remov_columns.append(col)\n",
    "print()\n",
    "print(f\"The unsignificant column list is :: {remov_columns} \")"
   ]
  },
  {
   "cell_type": "code",
   "execution_count": 75,
   "id": "3e241b55",
   "metadata": {},
   "outputs": [
    {
     "data": {
      "text/html": [
       "<div>\n",
       "<style scoped>\n",
       "    .dataframe tbody tr th:only-of-type {\n",
       "        vertical-align: middle;\n",
       "    }\n",
       "\n",
       "    .dataframe tbody tr th {\n",
       "        vertical-align: top;\n",
       "    }\n",
       "\n",
       "    .dataframe thead th {\n",
       "        text-align: right;\n",
       "    }\n",
       "</style>\n",
       "<table border=\"1\" class=\"dataframe\">\n",
       "  <thead>\n",
       "    <tr style=\"text-align: right;\">\n",
       "      <th></th>\n",
       "      <th>age</th>\n",
       "      <th>sex</th>\n",
       "      <th>bmi</th>\n",
       "      <th>bp</th>\n",
       "      <th>s3</th>\n",
       "      <th>s4</th>\n",
       "      <th>s5</th>\n",
       "    </tr>\n",
       "  </thead>\n",
       "  <tbody>\n",
       "    <tr>\n",
       "      <th>0</th>\n",
       "      <td>0.038076</td>\n",
       "      <td>0.050680</td>\n",
       "      <td>0.061696</td>\n",
       "      <td>0.021872</td>\n",
       "      <td>-0.043401</td>\n",
       "      <td>-0.002592</td>\n",
       "      <td>0.019908</td>\n",
       "    </tr>\n",
       "    <tr>\n",
       "      <th>1</th>\n",
       "      <td>-0.001882</td>\n",
       "      <td>-0.044642</td>\n",
       "      <td>-0.051474</td>\n",
       "      <td>-0.026328</td>\n",
       "      <td>0.074412</td>\n",
       "      <td>-0.039493</td>\n",
       "      <td>-0.068330</td>\n",
       "    </tr>\n",
       "    <tr>\n",
       "      <th>2</th>\n",
       "      <td>0.085299</td>\n",
       "      <td>0.050680</td>\n",
       "      <td>0.044451</td>\n",
       "      <td>-0.005671</td>\n",
       "      <td>-0.032356</td>\n",
       "      <td>-0.002592</td>\n",
       "      <td>0.002864</td>\n",
       "    </tr>\n",
       "  </tbody>\n",
       "</table>\n",
       "</div>"
      ],
      "text/plain": [
       "        age       sex       bmi        bp        s3        s4        s5\n",
       "0  0.038076  0.050680  0.061696  0.021872 -0.043401 -0.002592  0.019908\n",
       "1 -0.001882 -0.044642 -0.051474 -0.026328  0.074412 -0.039493 -0.068330\n",
       "2  0.085299  0.050680  0.044451 -0.005671 -0.032356 -0.002592  0.002864"
      ]
     },
     "execution_count": 75,
     "metadata": {},
     "output_type": "execute_result"
    }
   ],
   "source": [
    "# Removing unsignificant columns from independent variables\n",
    "xx.drop(remov_columns, axis=1, inplace=True)\n",
    "xx.head(3)"
   ]
  },
  {
   "cell_type": "code",
   "execution_count": 76,
   "id": "22355b31",
   "metadata": {},
   "outputs": [],
   "source": [
    "from sklearn import preprocessing\n",
    "scale = preprocessing.StandardScaler()\n",
    "xx = scale.fit_transform(xx)"
   ]
  },
  {
   "cell_type": "code",
   "execution_count": 77,
   "id": "cae54671",
   "metadata": {},
   "outputs": [
    {
     "data": {
      "text/html": [
       "<div>\n",
       "<style scoped>\n",
       "    .dataframe tbody tr th:only-of-type {\n",
       "        vertical-align: middle;\n",
       "    }\n",
       "\n",
       "    .dataframe tbody tr th {\n",
       "        vertical-align: top;\n",
       "    }\n",
       "\n",
       "    .dataframe thead th {\n",
       "        text-align: right;\n",
       "    }\n",
       "</style>\n",
       "<table border=\"1\" class=\"dataframe\">\n",
       "  <thead>\n",
       "    <tr style=\"text-align: right;\">\n",
       "      <th></th>\n",
       "      <th>Target</th>\n",
       "    </tr>\n",
       "  </thead>\n",
       "  <tbody>\n",
       "    <tr>\n",
       "      <th>0</th>\n",
       "      <td>151.0</td>\n",
       "    </tr>\n",
       "    <tr>\n",
       "      <th>1</th>\n",
       "      <td>75.0</td>\n",
       "    </tr>\n",
       "    <tr>\n",
       "      <th>2</th>\n",
       "      <td>141.0</td>\n",
       "    </tr>\n",
       "    <tr>\n",
       "      <th>3</th>\n",
       "      <td>206.0</td>\n",
       "    </tr>\n",
       "    <tr>\n",
       "      <th>4</th>\n",
       "      <td>135.0</td>\n",
       "    </tr>\n",
       "  </tbody>\n",
       "</table>\n",
       "</div>"
      ],
      "text/plain": [
       "   Target\n",
       "0   151.0\n",
       "1    75.0\n",
       "2   141.0\n",
       "3   206.0\n",
       "4   135.0"
      ]
     },
     "execution_count": 77,
     "metadata": {},
     "output_type": "execute_result"
    }
   ],
   "source": [
    "yy.head() # Dependent feature"
   ]
  },
  {
   "cell_type": "markdown",
   "id": "e601743f",
   "metadata": {},
   "source": [
    "# Q4. Then Apply decision tree on that data and try to get best accuracy by changing the hyperparameters \n"
   ]
  },
  {
   "cell_type": "code",
   "execution_count": 78,
   "id": "0bbc65af",
   "metadata": {},
   "outputs": [],
   "source": [
    "# Lets split the data\n",
    "xx_train, xx_test, yy_train, yy_test= train_test_split(xx, yy, test_size=0.2, random_state=31)"
   ]
  },
  {
   "cell_type": "code",
   "execution_count": 79,
   "id": "87c82b7a",
   "metadata": {},
   "outputs": [
    {
     "name": "stdout",
     "output_type": "stream",
     "text": [
      "Training data shape :: (353, 7) | (353, 1)\n",
      "Testing data shape :: (89, 7) | (89, 1)\n"
     ]
    }
   ],
   "source": [
    "# Printing Training & Testing Statistics\n",
    "print(f\"Training data shape :: {xx_train.shape} | {yy_train.shape}\")\n",
    "print(f\"Testing data shape :: {xx_test.shape} | {yy_test.shape}\")"
   ]
  },
  {
   "cell_type": "code",
   "execution_count": 80,
   "id": "f37e734e",
   "metadata": {},
   "outputs": [],
   "source": [
    "# Initiate decision tree regressor\n",
    "from sklearn.tree import DecisionTreeRegressor\n",
    "tree = DecisionTreeRegressor()"
   ]
  },
  {
   "cell_type": "code",
   "execution_count": 81,
   "id": "f485e462",
   "metadata": {},
   "outputs": [
    {
     "data": {
      "text/plain": [
       "DecisionTreeRegressor()"
      ]
     },
     "execution_count": 81,
     "metadata": {},
     "output_type": "execute_result"
    }
   ],
   "source": [
    "# Train the model with fit method\n",
    "tree.fit(xx_train, yy_train)"
   ]
  },
  {
   "cell_type": "code",
   "execution_count": 82,
   "id": "aff78d49",
   "metadata": {},
   "outputs": [],
   "source": [
    "# Predict from trained model \n",
    "y_Hat = tree.predict(xx_test)"
   ]
  },
  {
   "cell_type": "code",
   "execution_count": 83,
   "id": "66140a20",
   "metadata": {},
   "outputs": [
    {
     "data": {
      "text/plain": [
       "'100.00%'"
      ]
     },
     "execution_count": 83,
     "metadata": {},
     "output_type": "execute_result"
    }
   ],
   "source": [
    "f\"{tree.score(xx_train, yy_train)*100:.2f}%\" # score on training data. we got 100% accuracy because \n",
    "                                             # we train the decision tree throught its depth. "
   ]
  },
  {
   "cell_type": "code",
   "execution_count": 84,
   "id": "f0ef846b",
   "metadata": {},
   "outputs": [
    {
     "data": {
      "text/plain": [
       "'16.76%'"
      ]
     },
     "execution_count": 84,
     "metadata": {},
     "output_type": "execute_result"
    }
   ],
   "source": [
    "f\"{tree.score(xx_test, yy_test)*100:.2f}%\" # score on testing data"
   ]
  },
  {
   "cell_type": "code",
   "execution_count": 85,
   "id": "8eb8e920",
   "metadata": {},
   "outputs": [
    {
     "name": "stdout",
     "output_type": "stream",
     "text": [
      "Decision Tree's accuracy performance on dibetes data Before hyper parameter tuning : 16.76%\n"
     ]
    }
   ],
   "source": [
    "# Calculate R2 score\n",
    "from sklearn.metrics import r2_score\n",
    "print(f\"Decision Tree's accuracy performance on dibetes data Before hyper parameter tuning : {r2_score(yy_test, y_Hat)*100:.2f}%\" )"
   ]
  },
  {
   "cell_type": "code",
   "execution_count": 86,
   "id": "95c594d8",
   "metadata": {},
   "outputs": [],
   "source": [
    "# Hyper parameters range intialization for tuning \n",
    "\n",
    "parameters={ \"criterion\":[\"squared_error\", \"absolute_error\"],\n",
    "             \"splitter\":[\"best\",\"random\"],\n",
    "             \"max_depth\" : [1,2,3,4,5,6,7],\n",
    "             \"min_samples_leaf\":[1,2,3,4,5,6,7,8,9,10],\n",
    "             \"max_features\":[\"sqrt\"]\n",
    "              }"
   ]
  },
  {
   "cell_type": "code",
   "execution_count": 87,
   "id": "43449348",
   "metadata": {},
   "outputs": [],
   "source": [
    "from sklearn.model_selection import GridSearchCV\n"
   ]
  },
  {
   "cell_type": "code",
   "execution_count": 88,
   "id": "9bcf854c",
   "metadata": {},
   "outputs": [
    {
     "data": {
      "text/plain": [
       "GridSearchCV(cv=5, estimator=DecisionTreeRegressor(),\n",
       "             param_grid={'criterion': ['squared_error', 'absolute_error'],\n",
       "                         'max_depth': [1, 2, 3, 4, 5, 6, 7],\n",
       "                         'max_features': ['sqrt'],\n",
       "                         'min_samples_leaf': [1, 2, 3, 4, 5, 6, 7, 8, 9, 10],\n",
       "                         'splitter': ['best', 'random']},\n",
       "             scoring='neg_mean_squared_error')"
      ]
     },
     "execution_count": 88,
     "metadata": {},
     "output_type": "execute_result"
    }
   ],
   "source": [
    "tuning_model = GridSearchCV(tree,param_grid = parameters, scoring = 'neg_mean_squared_error', cv = 5 )\n",
    "tuning_model.fit(xx_train,yy_train)\n"
   ]
  },
  {
   "cell_type": "code",
   "execution_count": 89,
   "id": "c285b455",
   "metadata": {},
   "outputs": [
    {
     "name": "stdout",
     "output_type": "stream",
     "text": [
      "\n",
      " Best Hyperparameter for DecisionTreeClassifier model :: {'criterion': 'squared_error', 'max_depth': 4, 'max_features': 'sqrt', 'min_samples_leaf': 8, 'splitter': 'best'}\n",
      "\n"
     ]
    }
   ],
   "source": [
    "print(f\"\\n Best Hyperparameter for DecisionTreeClassifier model :: {tuning_model.best_params_}\\n\")"
   ]
  },
  {
   "cell_type": "code",
   "execution_count": 90,
   "id": "8b6410d0",
   "metadata": {},
   "outputs": [],
   "source": [
    "hyper_tunedtree = DecisionTreeRegressor(criterion='squared_error', splitter= 'best', max_depth=4 , \n",
    "                                         max_features= 'sqrt', min_samples_leaf= 8)\n",
    "hyper_tunedtree.fit(xx_train, yy_train)\n",
    "tuned_pred = hyper_tunedtree.predict(xx_test)"
   ]
  },
  {
   "cell_type": "code",
   "execution_count": 91,
   "id": "b409c9fc",
   "metadata": {},
   "outputs": [],
   "source": [
    "from sklearn.metrics import mean_absolute_error\n",
    "from sklearn.metrics import mean_squared_error\n",
    "from sklearn.metrics import r2_score"
   ]
  },
  {
   "cell_type": "code",
   "execution_count": 92,
   "id": "ca620868",
   "metadata": {},
   "outputs": [
    {
     "name": "stdout",
     "output_type": "stream",
     "text": [
      "MAE of tree : 39.02197648866519\n",
      "MSE of tree : 2563.5644445421044\n"
     ]
    }
   ],
   "source": [
    "print(f\"MAE of tree : {mean_absolute_error(yy_test,tuned_pred)}\")\n",
    "print(f\"MSE of tree : {mean_squared_error(yy_test,tuned_pred)}\")\n"
   ]
  },
  {
   "cell_type": "code",
   "execution_count": 93,
   "id": "0a9e7a41",
   "metadata": {},
   "outputs": [
    {
     "name": "stdout",
     "output_type": "stream",
     "text": [
      "Decision Tree's accuracy performance on dibetes data after hyper parameter tuning: 56.96% \n"
     ]
    }
   ],
   "source": [
    "# calculate accuracy\n",
    "print(f\"Decision Tree's accuracy performance on dibetes data after hyper parameter tuning: {r2_score(yy_test, tuned_pred)*100:.2f}% \", )"
   ]
  }
 ],
 "metadata": {
  "kernelspec": {
   "display_name": "Python 3 (ipykernel)",
   "language": "python",
   "name": "python3"
  },
  "language_info": {
   "codemirror_mode": {
    "name": "ipython",
    "version": 3
   },
   "file_extension": ".py",
   "mimetype": "text/x-python",
   "name": "python",
   "nbconvert_exporter": "python",
   "pygments_lexer": "ipython3",
   "version": "3.9.13"
  }
 },
 "nbformat": 4,
 "nbformat_minor": 5
}
